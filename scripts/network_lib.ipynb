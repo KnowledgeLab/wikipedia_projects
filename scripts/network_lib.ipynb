{
 "metadata": {
  "name": "",
  "signature": "sha256:e04f626bf14734e86c6a8ff907db2ad4923bb2267912bb8d335ce130a89610c1"
 },
 "nbformat": 3,
 "nbformat_minor": 0,
 "worksheets": [
  {
   "cells": [
    {
     "cell_type": "code",
     "collapsed": false,
     "input": [
      "import urllib\n",
      "import xlrd\n",
      "import csv\n",
      "import xml.etree.ElementTree as ET\n",
      "from   unidecode import *\n",
      "import xlwt\n",
      "import sys\n",
      "import re\n",
      "\n",
      "def load_csv(filename):\n",
      "    soups = {}\n",
      "    fil = open(filename, 'rb')\n",
      "    reader = csv.reader(fil, delimiter=',')\n",
      "    for row in reader:\n",
      "        soups[row[0]] = row[1:]\n",
      "    return soups\n",
      "\n",
      "def load_bots(filename):\n",
      "    ret = []\n",
      "    fil = open(filename,'rb')\n",
      "    for line in fil.readlines():\n",
      "        ret.append(line[5:].strip())\n",
      "    return ret"
     ],
     "language": "python",
     "metadata": {},
     "outputs": [],
     "prompt_number": 1
    },
    {
     "cell_type": "code",
     "collapsed": false,
     "input": [
      "lib = load_csv(\"../processed_data/liberal_editors.txt\")\n",
      "cons = load_csv(\"../processed_data/conservative_editors.txt\")\n",
      "science = load_csv(\"../processed_data/science_editors.txt\")"
     ],
     "language": "python",
     "metadata": {},
     "outputs": [],
     "prompt_number": 2
    },
    {
     "cell_type": "code",
     "collapsed": false,
     "input": [
      "bots = load_bots('../all_bots.txt')"
     ],
     "language": "python",
     "metadata": {},
     "outputs": [],
     "prompt_number": 3
    },
    {
     "cell_type": "code",
     "collapsed": false,
     "input": [
      "len(bots)"
     ],
     "language": "python",
     "metadata": {},
     "outputs": [
      {
       "metadata": {},
       "output_type": "pyout",
       "prompt_number": 18,
       "text": [
        "1674"
       ]
      }
     ],
     "prompt_number": 18
    },
    {
     "cell_type": "code",
     "collapsed": false,
     "input": [
      "def strip_bots(group_dict):\n",
      "    total = 0\n",
      "    b = 0\n",
      "    for key in group_dict.keys():\n",
      "        for editor in group_dict[key]:\n",
      "            total = total + 1\n",
      "            if editor in bots:\n",
      "                b = b + 1\n",
      "                group_dict[key].remove(editor)\n",
      "    print float(b)/total\n",
      "    return group_dict"
     ],
     "language": "python",
     "metadata": {},
     "outputs": [],
     "prompt_number": 4
    },
    {
     "cell_type": "code",
     "collapsed": false,
     "input": [
      "def strip_ips(group_dict):\n",
      "    total = 0\n",
      "    b = 0\n",
      "    for key in group_dict.keys():\n",
      "        for editor in group_dict[key]:\n",
      "            total = total + 1\n",
      "            aa=re.match(r\"^\\d{1,3}\\.\\d{1,3}\\.\\d{1,3}\\.\\d{1,3}$\",editor)\n",
      "            if aa or (editor.count(':') == 7):\n",
      "                b = b + 1\n",
      "                group_dict[key].remove(editor)\n",
      "    print float(b)/total\n",
      "    return group_dict"
     ],
     "language": "python",
     "metadata": {},
     "outputs": [],
     "prompt_number": 9
    },
    {
     "cell_type": "code",
     "collapsed": false,
     "input": [
      "lib = strip_bots(lib)\n",
      "lib = strip_bots(lib)\n",
      "lib = strip_bots(lib)\n",
      "lib = strip_bots(lib)\n",
      "lib = strip_bots(lib)"
     ],
     "language": "python",
     "metadata": {},
     "outputs": [
      {
       "output_type": "stream",
       "stream": "stdout",
       "text": [
        "0.0729496577123\n",
        "0.00791071107111"
       ]
      },
      {
       "output_type": "stream",
       "stream": "stdout",
       "text": [
        "\n",
        "0.000108077573759"
       ]
      },
      {
       "output_type": "stream",
       "stream": "stdout",
       "text": [
        "\n",
        "0.0"
       ]
      },
      {
       "output_type": "stream",
       "stream": "stdout",
       "text": [
        "\n",
        "0.0"
       ]
      },
      {
       "output_type": "stream",
       "stream": "stdout",
       "text": [
        "\n"
       ]
      }
     ],
     "prompt_number": 5
    },
    {
     "cell_type": "code",
     "collapsed": false,
     "input": [
      "cons = strip_bots(cons)\n",
      "cons = strip_bots(cons)\n",
      "cons = strip_bots(cons)\n",
      "cons = strip_bots(cons)\n",
      "cons = strip_bots(cons)"
     ],
     "language": "python",
     "metadata": {},
     "outputs": [
      {
       "output_type": "stream",
       "stream": "stdout",
       "text": [
        "0.062246382002\n",
        "0.00536457965695"
       ]
      },
      {
       "output_type": "stream",
       "stream": "stdout",
       "text": [
        "\n",
        "4.39361106186e-05"
       ]
      },
      {
       "output_type": "stream",
       "stream": "stdout",
       "text": [
        "\n",
        "0.0"
       ]
      },
      {
       "output_type": "stream",
       "stream": "stdout",
       "text": [
        "\n",
        "0.0"
       ]
      },
      {
       "output_type": "stream",
       "stream": "stdout",
       "text": [
        "\n"
       ]
      }
     ],
     "prompt_number": 6
    },
    {
     "cell_type": "code",
     "collapsed": false,
     "input": [
      "science = strip_bots(science)\n",
      "science = strip_bots(science)\n",
      "science = strip_bots(science)\n",
      "science = strip_bots(science)"
     ],
     "language": "python",
     "metadata": {},
     "outputs": [
      {
       "output_type": "stream",
       "stream": "stdout",
       "text": [
        "0.0561980010714\n",
        "0.00532052997469"
       ]
      },
      {
       "output_type": "stream",
       "stream": "stdout",
       "text": [
        "\n",
        "9.65816533491e-05"
       ]
      },
      {
       "output_type": "stream",
       "stream": "stdout",
       "text": [
        "\n",
        "0.0"
       ]
      },
      {
       "output_type": "stream",
       "stream": "stdout",
       "text": [
        "\n"
       ]
      }
     ],
     "prompt_number": 7
    },
    {
     "cell_type": "code",
     "collapsed": false,
     "input": [
      "lib = strip_ips(lib)\n",
      "lib = strip_ips(lib)\n",
      "lib = strip_ips(lib)\n",
      "lib = strip_ips(lib)\n",
      "lib = strip_ips(lib)\n",
      "lib = strip_ips(lib)"
     ],
     "language": "python",
     "metadata": {},
     "outputs": [
      {
       "output_type": "stream",
       "stream": "stdout",
       "text": [
        "0.0\n",
        "0.0"
       ]
      },
      {
       "output_type": "stream",
       "stream": "stdout",
       "text": [
        "\n"
       ]
      },
      {
       "ename": "KeyboardInterrupt",
       "evalue": "",
       "output_type": "pyerr",
       "traceback": [
        "\u001b[0;31m---------------------------------------------------------------------------\u001b[0m\n\u001b[0;31mKeyboardInterrupt\u001b[0m                         Traceback (most recent call last)",
        "\u001b[0;32m<ipython-input-11-e2d08564e53b>\u001b[0m in \u001b[0;36m<module>\u001b[0;34m()\u001b[0m\n\u001b[1;32m      1\u001b[0m \u001b[0mlib\u001b[0m \u001b[0;34m=\u001b[0m \u001b[0mstrip_ips\u001b[0m\u001b[0;34m(\u001b[0m\u001b[0mlib\u001b[0m\u001b[0;34m)\u001b[0m\u001b[0;34m\u001b[0m\u001b[0m\n\u001b[1;32m      2\u001b[0m \u001b[0mlib\u001b[0m \u001b[0;34m=\u001b[0m \u001b[0mstrip_ips\u001b[0m\u001b[0;34m(\u001b[0m\u001b[0mlib\u001b[0m\u001b[0;34m)\u001b[0m\u001b[0;34m\u001b[0m\u001b[0m\n\u001b[0;32m----> 3\u001b[0;31m \u001b[0mlib\u001b[0m \u001b[0;34m=\u001b[0m \u001b[0mstrip_ips\u001b[0m\u001b[0;34m(\u001b[0m\u001b[0mlib\u001b[0m\u001b[0;34m)\u001b[0m\u001b[0;34m\u001b[0m\u001b[0m\n\u001b[0m\u001b[1;32m      4\u001b[0m \u001b[0mlib\u001b[0m \u001b[0;34m=\u001b[0m \u001b[0mstrip_ips\u001b[0m\u001b[0;34m(\u001b[0m\u001b[0mlib\u001b[0m\u001b[0;34m)\u001b[0m\u001b[0;34m\u001b[0m\u001b[0m\n\u001b[1;32m      5\u001b[0m \u001b[0mlib\u001b[0m \u001b[0;34m=\u001b[0m \u001b[0mstrip_ips\u001b[0m\u001b[0;34m(\u001b[0m\u001b[0mlib\u001b[0m\u001b[0;34m)\u001b[0m\u001b[0;34m\u001b[0m\u001b[0m\n",
        "\u001b[0;32m<ipython-input-9-e574cd8c75d8>\u001b[0m in \u001b[0;36mstrip_ips\u001b[0;34m(group_dict)\u001b[0m\n\u001b[1;32m      6\u001b[0m             \u001b[0mtotal\u001b[0m \u001b[0;34m=\u001b[0m \u001b[0mtotal\u001b[0m \u001b[0;34m+\u001b[0m \u001b[0;36m1\u001b[0m\u001b[0;34m\u001b[0m\u001b[0m\n\u001b[1;32m      7\u001b[0m             \u001b[0maa\u001b[0m\u001b[0;34m=\u001b[0m\u001b[0mre\u001b[0m\u001b[0;34m.\u001b[0m\u001b[0mmatch\u001b[0m\u001b[0;34m(\u001b[0m\u001b[0;34mr\"^\\d{1,3}\\.\\d{1,3}\\.\\d{1,3}\\.\\d{1,3}$\"\u001b[0m\u001b[0;34m,\u001b[0m\u001b[0meditor\u001b[0m\u001b[0;34m)\u001b[0m\u001b[0;34m\u001b[0m\u001b[0m\n\u001b[0;32m----> 8\u001b[0;31m             \u001b[0;32mif\u001b[0m \u001b[0maa\u001b[0m \u001b[0;32mor\u001b[0m \u001b[0;34m(\u001b[0m\u001b[0meditor\u001b[0m\u001b[0;34m.\u001b[0m\u001b[0mcount\u001b[0m\u001b[0;34m(\u001b[0m\u001b[0;34m':'\u001b[0m\u001b[0;34m)\u001b[0m \u001b[0;34m==\u001b[0m \u001b[0;36m7\u001b[0m\u001b[0;34m)\u001b[0m\u001b[0;34m:\u001b[0m\u001b[0;34m\u001b[0m\u001b[0m\n\u001b[0m\u001b[1;32m      9\u001b[0m                 \u001b[0mb\u001b[0m \u001b[0;34m=\u001b[0m \u001b[0mb\u001b[0m \u001b[0;34m+\u001b[0m \u001b[0;36m1\u001b[0m\u001b[0;34m\u001b[0m\u001b[0m\n\u001b[1;32m     10\u001b[0m                 \u001b[0mgroup_dict\u001b[0m\u001b[0;34m[\u001b[0m\u001b[0mkey\u001b[0m\u001b[0;34m]\u001b[0m\u001b[0;34m.\u001b[0m\u001b[0mremove\u001b[0m\u001b[0;34m(\u001b[0m\u001b[0meditor\u001b[0m\u001b[0;34m)\u001b[0m\u001b[0;34m\u001b[0m\u001b[0m\n",
        "\u001b[0;31mKeyboardInterrupt\u001b[0m: "
       ]
      }
     ],
     "prompt_number": 11
    },
    {
     "cell_type": "code",
     "collapsed": false,
     "input": [
      "cons = strip_ips(cons)\n",
      "cons = strip_ips(cons)\n",
      "cons = strip_ips(cons)\n",
      "cons = strip_ips(cons)\n",
      "cons = strip_ips(cons)\n",
      "cons = strip_ips(cons)"
     ],
     "language": "python",
     "metadata": {},
     "outputs": [
      {
       "output_type": "stream",
       "stream": "stdout",
       "text": [
        "0.401497824818\n",
        "0.172201801282"
       ]
      },
      {
       "output_type": "stream",
       "stream": "stdout",
       "text": [
        "\n",
        "0.0381407681183"
       ]
      },
      {
       "output_type": "stream",
       "stream": "stdout",
       "text": [
        "\n",
        "0.00303606740607"
       ]
      },
      {
       "output_type": "stream",
       "stream": "stdout",
       "text": [
        "\n",
        "5.10516642843e-05"
       ]
      },
      {
       "output_type": "stream",
       "stream": "stdout",
       "text": [
        "\n",
        "0.0"
       ]
      },
      {
       "output_type": "stream",
       "stream": "stdout",
       "text": [
        "\n"
       ]
      }
     ],
     "prompt_number": 12
    },
    {
     "cell_type": "code",
     "collapsed": false,
     "input": [
      "science = strip_ips(science)\n",
      "science = strip_ips(science)\n",
      "science = strip_ips(science)\n",
      "science = strip_ips(science)\n",
      "science = strip_ips(science)\n",
      "science = strip_ips(science)"
     ],
     "language": "python",
     "metadata": {},
     "outputs": [
      {
       "output_type": "stream",
       "stream": "stdout",
       "text": [
        "0.505873986027\n",
        "0.258971469486"
       ]
      },
      {
       "output_type": "stream",
       "stream": "stdout",
       "text": [
        "\n",
        "0.0739250056994"
       ]
      },
      {
       "output_type": "stream",
       "stream": "stdout",
       "text": [
        "\n",
        "0.00738027583993"
       ]
      },
      {
       "output_type": "stream",
       "stream": "stdout",
       "text": [
        "\n",
        "0.000103224377066"
       ]
      },
      {
       "output_type": "stream",
       "stream": "stdout",
       "text": [
        "\n",
        "0.0"
       ]
      },
      {
       "output_type": "stream",
       "stream": "stdout",
       "text": [
        "\n"
       ]
      }
     ],
     "prompt_number": 13
    },
    {
     "cell_type": "code",
     "collapsed": false,
     "input": [
      "def strip_smackbot(group_dict):\n",
      "    total = 0\n",
      "    b = 0\n",
      "    for key in group_dict.keys():\n",
      "        for editor in group_dict[key]:\n",
      "            total = total + 1\n",
      "            if editor == 'SmackBot':\n",
      "                b = b + 1\n",
      "                group_dict[key].remove(editor)\n",
      "    print float(b)/total\n",
      "    return group_dict"
     ],
     "language": "python",
     "metadata": {},
     "outputs": [],
     "prompt_number": 14
    },
    {
     "cell_type": "code",
     "collapsed": false,
     "input": [
      "lib = strip_smackbot(lib)"
     ],
     "language": "python",
     "metadata": {},
     "outputs": [
      {
       "output_type": "stream",
       "stream": "stdout",
       "text": [
        "0.0\n"
       ]
      }
     ],
     "prompt_number": 16
    },
    {
     "cell_type": "code",
     "collapsed": false,
     "input": [
      "cons = strip_smackbot(cons)"
     ],
     "language": "python",
     "metadata": {},
     "outputs": [
      {
       "output_type": "stream",
       "stream": "stdout",
       "text": [
        "0.0\n"
       ]
      }
     ],
     "prompt_number": 18
    },
    {
     "cell_type": "code",
     "collapsed": false,
     "input": [
      "science = strip_smackbot(science)"
     ],
     "language": "python",
     "metadata": {},
     "outputs": [
      {
       "output_type": "stream",
       "stream": "stdout",
       "text": [
        "0.0\n"
       ]
      }
     ],
     "prompt_number": 20
    },
    {
     "cell_type": "code",
     "collapsed": false,
     "input": [],
     "language": "python",
     "metadata": {},
     "outputs": []
    },
    {
     "cell_type": "code",
     "collapsed": false,
     "input": [
      "def make_net_dict():\n",
      "    ret = {}\n",
      "    for key in lib.keys():\n",
      "        ret[key] = ['liberal', lib[key]]\n",
      "    for key in cons.keys():\n",
      "        k = key[62:-8]\n",
      "        ret[k] = ['conservative', cons[key]]\n",
      "    for key in science.keys():\n",
      "        k = key[57:-8]\n",
      "        ret[k] = ['science', science[key]]\n",
      "    return ret\n",
      "\n",
      "full = make_net_dict()\n",
      "len(full)\n",
      "\n",
      "            "
     ],
     "language": "python",
     "metadata": {},
     "outputs": [
      {
       "metadata": {},
       "output_type": "pyout",
       "prompt_number": 21,
       "text": [
        "35685"
       ]
      }
     ],
     "prompt_number": 21
    },
    {
     "cell_type": "code",
     "collapsed": false,
     "input": [
      "out = open(\"../processed_data/cleaned_editors_full.txt\", 'wb')\n",
      "wb = csv.writer(out)\n",
      "for key in full.keys():\n",
      "    wb.writerow([key, full[key][0]] + full[key][1])\n",
      "out.close()"
     ],
     "language": "python",
     "metadata": {},
     "outputs": [],
     "prompt_number": 24
    },
    {
     "cell_type": "code",
     "collapsed": false,
     "input": [
      "def load_clean(filename):\n",
      "    soups = {}\n",
      "    fil = open(filename, 'rb')\n",
      "    reader = csv.reader(fil, delimiter=',')\n",
      "    for row in reader:\n",
      "        soups[row[0]] = [row[1], row[2:]]\n",
      "    return soups"
     ],
     "language": "python",
     "metadata": {},
     "outputs": [],
     "prompt_number": 25
    },
    {
     "cell_type": "code",
     "collapsed": false,
     "input": [
      "full = load_clean('../processed_data/cleaned_editors_full.txt')"
     ],
     "language": "python",
     "metadata": {},
     "outputs": [],
     "prompt_number": 27
    },
    {
     "cell_type": "code",
     "collapsed": false,
     "input": [
      "full[full.keys()[0]]"
     ],
     "language": "python",
     "metadata": {},
     "outputs": [
      {
       "metadata": {},
       "output_type": "pyout",
       "prompt_number": 28,
       "text": [
        "['science',\n",
        " ['Mmm~enwiki',\n",
        "  'Bearcat',\n",
        "  \"R'n'B\",\n",
        "  'PhD Dre',\n",
        "  'Sun Creator',\n",
        "  'Favonian',\n",
        "  'Dycedarg',\n",
        "  'Wikiklrsc',\n",
        "  'JaGa',\n",
        "  'Marc Gabriel Schmid',\n",
        "  'Tmangray',\n",
        "  'Arcadian',\n",
        "  'Archibald Tuttle',\n",
        "  'Malcolma',\n",
        "  'Theshizzler',\n",
        "  'Wavelength',\n",
        "  'Skyerise']]"
       ]
      }
     ],
     "prompt_number": 28
    },
    {
     "cell_type": "code",
     "collapsed": false,
     "input": [
      "import networkx as nx\n",
      "import itertools\n",
      "\n",
      "comb = itertools.combinations(full.keys(), 2)\n",
      "temp = []\n",
      "for tup in comb:\n",
      "    first = full[tup[0]][1]\n",
      "    second = full[tup[1]][1]\n",
      "    weight = len(set(first).intersection(set(second)))\n",
      "    if weight > 0:\n",
      "        temp.append((tup[0], tup[1], weight))\n"
     ],
     "language": "python",
     "metadata": {},
     "outputs": [
      {
       "ename": "KeyboardInterrupt",
       "evalue": "",
       "output_type": "pyerr",
       "traceback": [
        "\u001b[0;31m---------------------------------------------------------------------------\u001b[0m\n\u001b[0;31mKeyboardInterrupt\u001b[0m                         Traceback (most recent call last)",
        "\u001b[0;32m<ipython-input-29-d3295ccaf9d3>\u001b[0m in \u001b[0;36m<module>\u001b[0;34m()\u001b[0m\n\u001b[1;32m      7\u001b[0m     \u001b[0mfirst\u001b[0m \u001b[0;34m=\u001b[0m \u001b[0mfull\u001b[0m\u001b[0;34m[\u001b[0m\u001b[0mtup\u001b[0m\u001b[0;34m[\u001b[0m\u001b[0;36m0\u001b[0m\u001b[0;34m]\u001b[0m\u001b[0;34m]\u001b[0m\u001b[0;34m[\u001b[0m\u001b[0;36m1\u001b[0m\u001b[0;34m]\u001b[0m\u001b[0;34m\u001b[0m\u001b[0m\n\u001b[1;32m      8\u001b[0m     \u001b[0msecond\u001b[0m \u001b[0;34m=\u001b[0m \u001b[0mfull\u001b[0m\u001b[0;34m[\u001b[0m\u001b[0mtup\u001b[0m\u001b[0;34m[\u001b[0m\u001b[0;36m1\u001b[0m\u001b[0;34m]\u001b[0m\u001b[0;34m]\u001b[0m\u001b[0;34m[\u001b[0m\u001b[0;36m1\u001b[0m\u001b[0;34m]\u001b[0m\u001b[0;34m\u001b[0m\u001b[0m\n\u001b[0;32m----> 9\u001b[0;31m     \u001b[0mweight\u001b[0m \u001b[0;34m=\u001b[0m \u001b[0mlen\u001b[0m\u001b[0;34m(\u001b[0m\u001b[0mset\u001b[0m\u001b[0;34m(\u001b[0m\u001b[0mfirst\u001b[0m\u001b[0;34m)\u001b[0m\u001b[0;34m.\u001b[0m\u001b[0mintersection\u001b[0m\u001b[0;34m(\u001b[0m\u001b[0mset\u001b[0m\u001b[0;34m(\u001b[0m\u001b[0msecond\u001b[0m\u001b[0;34m)\u001b[0m\u001b[0;34m)\u001b[0m\u001b[0;34m)\u001b[0m\u001b[0;34m\u001b[0m\u001b[0m\n\u001b[0m\u001b[1;32m     10\u001b[0m     \u001b[0;32mif\u001b[0m \u001b[0mweight\u001b[0m \u001b[0;34m>\u001b[0m \u001b[0;36m0\u001b[0m\u001b[0;34m:\u001b[0m\u001b[0;34m\u001b[0m\u001b[0m\n\u001b[1;32m     11\u001b[0m         \u001b[0mtemp\u001b[0m\u001b[0;34m.\u001b[0m\u001b[0mappend\u001b[0m\u001b[0;34m(\u001b[0m\u001b[0;34m(\u001b[0m\u001b[0mtup\u001b[0m\u001b[0;34m[\u001b[0m\u001b[0;36m0\u001b[0m\u001b[0;34m]\u001b[0m\u001b[0;34m,\u001b[0m \u001b[0mtup\u001b[0m\u001b[0;34m[\u001b[0m\u001b[0;36m1\u001b[0m\u001b[0;34m]\u001b[0m\u001b[0;34m,\u001b[0m \u001b[0mweight\u001b[0m\u001b[0;34m)\u001b[0m\u001b[0;34m)\u001b[0m\u001b[0;34m\u001b[0m\u001b[0m\n",
        "\u001b[0;31mKeyboardInterrupt\u001b[0m: "
       ]
      }
     ],
     "prompt_number": 29
    },
    {
     "cell_type": "code",
     "collapsed": false,
     "input": [
      "import networkx as nx\n",
      "G=nx.Graph()\n",
      "temp = []\n",
      "i = 0\n",
      "while i < len(full.keys()):\n",
      "    j = i + 1\n",
      "    while j < len(full.keys()):\n",
      "        first = full[full.keys()[i]][1]\n",
      "        second = full[full.keys()[j]][1]\n",
      "        weight = len(set(first).intersection(set(second)))\n",
      "        if weight > 0:\n",
      "            temp.append((full.keys()[i], full.keys()[j], weight))\n",
      "        j = j + 1\n",
      "    i = i + 1\n",
      "    print i\n"
     ],
     "language": "python",
     "metadata": {},
     "outputs": [
      {
       "output_type": "stream",
       "stream": "stdout",
       "text": [
        "1\n",
        "2"
       ]
      },
      {
       "output_type": "stream",
       "stream": "stdout",
       "text": [
        "\n",
        "3"
       ]
      },
      {
       "output_type": "stream",
       "stream": "stdout",
       "text": [
        "\n",
        "4"
       ]
      },
      {
       "output_type": "stream",
       "stream": "stdout",
       "text": [
        "\n"
       ]
      },
      {
       "ename": "KeyboardInterrupt",
       "evalue": "",
       "output_type": "pyerr",
       "traceback": [
        "\u001b[0;31m---------------------------------------------------------------------------\u001b[0m\n\u001b[0;31mKeyboardInterrupt\u001b[0m                         Traceback (most recent call last)",
        "\u001b[0;32m<ipython-input-136-00fdf4a26e3b>\u001b[0m in \u001b[0;36m<module>\u001b[0;34m()\u001b[0m\n\u001b[1;32m      7\u001b[0m     \u001b[0;32mwhile\u001b[0m \u001b[0mj\u001b[0m \u001b[0;34m<\u001b[0m \u001b[0mlen\u001b[0m\u001b[0;34m(\u001b[0m\u001b[0mfull\u001b[0m\u001b[0;34m.\u001b[0m\u001b[0mkeys\u001b[0m\u001b[0;34m(\u001b[0m\u001b[0;34m)\u001b[0m\u001b[0;34m)\u001b[0m\u001b[0;34m:\u001b[0m\u001b[0;34m\u001b[0m\u001b[0m\n\u001b[1;32m      8\u001b[0m         \u001b[0mfirst\u001b[0m \u001b[0;34m=\u001b[0m \u001b[0mfull\u001b[0m\u001b[0;34m[\u001b[0m\u001b[0mfull\u001b[0m\u001b[0;34m.\u001b[0m\u001b[0mkeys\u001b[0m\u001b[0;34m(\u001b[0m\u001b[0;34m)\u001b[0m\u001b[0;34m[\u001b[0m\u001b[0mi\u001b[0m\u001b[0;34m]\u001b[0m\u001b[0;34m]\u001b[0m\u001b[0;34m[\u001b[0m\u001b[0;36m1\u001b[0m\u001b[0;34m]\u001b[0m\u001b[0;34m\u001b[0m\u001b[0m\n\u001b[0;32m----> 9\u001b[0;31m         \u001b[0msecond\u001b[0m \u001b[0;34m=\u001b[0m \u001b[0mfull\u001b[0m\u001b[0;34m[\u001b[0m\u001b[0mfull\u001b[0m\u001b[0;34m.\u001b[0m\u001b[0mkeys\u001b[0m\u001b[0;34m(\u001b[0m\u001b[0;34m)\u001b[0m\u001b[0;34m[\u001b[0m\u001b[0mj\u001b[0m\u001b[0;34m]\u001b[0m\u001b[0;34m]\u001b[0m\u001b[0;34m[\u001b[0m\u001b[0;36m1\u001b[0m\u001b[0;34m]\u001b[0m\u001b[0;34m\u001b[0m\u001b[0m\n\u001b[0m\u001b[1;32m     10\u001b[0m         \u001b[0mweight\u001b[0m \u001b[0;34m=\u001b[0m \u001b[0mlen\u001b[0m\u001b[0;34m(\u001b[0m\u001b[0mset\u001b[0m\u001b[0;34m(\u001b[0m\u001b[0mfirst\u001b[0m\u001b[0;34m)\u001b[0m\u001b[0;34m.\u001b[0m\u001b[0mintersection\u001b[0m\u001b[0;34m(\u001b[0m\u001b[0mset\u001b[0m\u001b[0;34m(\u001b[0m\u001b[0msecond\u001b[0m\u001b[0;34m)\u001b[0m\u001b[0;34m)\u001b[0m\u001b[0;34m)\u001b[0m\u001b[0;34m\u001b[0m\u001b[0m\n\u001b[1;32m     11\u001b[0m         \u001b[0;32mif\u001b[0m \u001b[0mweight\u001b[0m \u001b[0;34m>\u001b[0m \u001b[0;36m0\u001b[0m\u001b[0;34m:\u001b[0m\u001b[0;34m\u001b[0m\u001b[0m\n",
        "\u001b[0;31mKeyboardInterrupt\u001b[0m: "
       ]
      }
     ],
     "prompt_number": 136
    },
    {
     "cell_type": "code",
     "collapsed": false,
     "input": [
      "G.add_weighted_edges_from(temp)\n",
      "print len(G.nodes(data=True))\n",
      "#nx.write_graphml(G,'so.graphml')"
     ],
     "language": "python",
     "metadata": {},
     "outputs": []
    },
    {
     "cell_type": "code",
     "collapsed": false,
     "input": [
      "temp[:100]"
     ],
     "language": "python",
     "metadata": {},
     "outputs": [
      {
       "metadata": {},
       "output_type": "pyout",
       "prompt_number": 32,
       "text": [
        "[('Neurite', 'Anisocoria', 1),\n",
        " ('Neurite', 'Jaundice', 1),\n",
        " ('Neurite', 'Brian_Bingman', 1),\n",
        " ('Neurite', 'Greater_palatine_nerve', 1),\n",
        " ('Neurite', 'Gadolinium', 2),\n",
        " ('Neurite', 'Family_therapy', 4),\n",
        " ('Neurite', 'Institute_on_the_Constitution', 1),\n",
        " ('Neurite', 'William_B_Cooper__NC_politician_', 1),\n",
        " ('Neurite', 'Inner_membrane', 2),\n",
        " ('Neurite', 'Donald_Steinbeisser', 1),\n",
        " ('Neurite', 'Lee_H_Hamilton', 1),\n",
        " ('Neurite', 'Arbovirus', 1),\n",
        " ('Neurite', 'Mike_Rogers__Alabama_politician_', 1),\n",
        " ('Neurite', 'Wild_Solutions', 1),\n",
        " ('Neurite', 'Automatic_behavior', 1),\n",
        " ('Neurite', 'Benning_M_Bean', 1),\n",
        " ('Neurite', 'Sexual_script', 1),\n",
        " ('Neurite', 'Lewis_Billings', 1),\n",
        " ('Neurite', 'Two-Spirit', 3),\n",
        " ('Neurite', 'Ossicles', 2),\n",
        " ('Neurite', 'Charles_Coughlin', 2),\n",
        " ('Neurite', 'Jim_Suttle', 1),\n",
        " ('Neurite', 'Dry_line', 1),\n",
        " ('Neurite', 'Rudolph_A_Marcus', 1),\n",
        " ('Neurite', 'Fujita_scale', 1),\n",
        " ('Neurite', 'Inward-rectifier_potassium_ion_channel', 1),\n",
        " ('Neurite', 'Thomas_Burton_Hanly', 1),\n",
        " ('Neurite', 'Sandstone', 3),\n",
        " ('Neurite', 'John_Moses__American_politician_', 1),\n",
        " ('Neurite', 'Jennifer_Elkins', 1),\n",
        " ('Neurite', 'Luz_Robles', 1),\n",
        " ('Neurite', 'John_Sinrud', 1),\n",
        " ('Neurite', 'Apparent_wind', 1),\n",
        " ('Neurite', 'Hemocyte', 1),\n",
        " ('Neurite', 'Survival_of_the_fittest', 1),\n",
        " ('Neurite', 'Prenatal_care', 1),\n",
        " ('Neurite', 'Lacrimal_sac', 2),\n",
        " ('Neurite', 'Molly_Kelly', 1),\n",
        " ('Neurite', 'United_Nations_Decade_on_Biodiversity', 1),\n",
        " ('Neurite', 'Arthur_C_Watson', 1),\n",
        " ('Neurite', 'Weather_front', 2),\n",
        " ('Neurite', 'Attention', 1),\n",
        " ('Neurite', 'Lawrence_Gates', 1),\n",
        " ('Neurite', 'Alexander_Billmeyer', 1),\n",
        " ('Neurite', 'Nancy_Cassis', 1),\n",
        " ('Neurite', 'Nucleus_fastigius', 2),\n",
        " ('Neurite', 'Ben_Clayburgh', 1),\n",
        " ('Neurite', 'Encephalitis', 1),\n",
        " ('Neurite', 'Jay_Severin', 3),\n",
        " ('Neurite', 'Steve_Sydness', 1),\n",
        " ('Neurite', 'Soapstone', 1),\n",
        " ('Neurite', 'Stereotactic_injection', 2),\n",
        " ('Neurite', 'James_K_Polk', 3),\n",
        " ('Neurite', 'Winfield_Dunn', 1),\n",
        " ('Neurite', 'Basolateral_amygdala', 3),\n",
        " ('Neurite', 'Blastoma', 1),\n",
        " ('Neurite', 'Hip', 1),\n",
        " ('Neurite', 'Samuel_W_Black', 1),\n",
        " ('Neurite', 'Antitoxin', 1),\n",
        " ('Neurite', 'Catharsis', 2),\n",
        " ('Neurite', 'Mechanics', 3),\n",
        " ('Neurite', 'Rachel_Binah', 1),\n",
        " ('Neurite', 'Ejaculatory_duct', 1),\n",
        " ('Neurite', 'Tourmaline', 2),\n",
        " ('Neurite', 'Image_schema', 1),\n",
        " ('Neurite', 'Old_age', 3),\n",
        " ('Neurite', 'DDT_in_New_Zealand', 1),\n",
        " ('Neurite', 'Joe_Manchin', 2),\n",
        " ('Neurite', 'Spacequake', 2),\n",
        " ('Neurite', 'Rectus_sheath', 1),\n",
        " ('Neurite', 'Louis_Wade_Sullivan', 1),\n",
        " ('Neurite', 'James_A_Byrne', 1),\n",
        " ('Neurite', 'William_R_Laird,_III', 1),\n",
        " ('Neurite', 'Debra_Bowen', 1),\n",
        " ('Neurite', 'Nicole_LeFavour', 1),\n",
        " ('Neurite', 'Flucytosine', 1),\n",
        " ('Neurite', 'Capitate', 1),\n",
        " ('Neurite', 'Plasma_transferred_wire_arc_thermal_spraying', 1),\n",
        " ('Neurite', 'Martha_B_Alexander', 1),\n",
        " ('Neurite', 'Garet_Garrett', 1),\n",
        " ('Neurite', 'Auditory_radiations', 1),\n",
        " ('Neurite', 'William_A_Graham__agriculture_commissioner_', 1),\n",
        " ('Neurite', 'Climate_sensitivity', 1),\n",
        " ('Neurite', 'Metencephalon', 1),\n",
        " ('Neurite', 'Consecutive_case_series', 1),\n",
        " ('Neurite', 'Incus', 1),\n",
        " ('Neurite', 'Hybrid_plasmid', 1),\n",
        " ('Neurite', 'Angiomatosis', 1),\n",
        " ('Neurite', 'Mood__psychology_', 1),\n",
        " ('Neurite', 'Neck', 2),\n",
        " ('Neurite', 'James_E_Murray', 1),\n",
        " ('Neurite', 'Josiah_Willard_Gibbs', 1),\n",
        " ('Neurite', 'Pluvial_lake', 1),\n",
        " ('Neurite', 'International_Association_of_Geomagnetism_and_Aeronomy', 1),\n",
        " ('Neurite', 'Epithalamus', 1),\n",
        " ('Neurite', 'Dave_Pankonin', 1),\n",
        " ('Neurite', 'Radio_navigation', 1),\n",
        " ('Neurite', 'Calcitonin_gene-related_peptide', 1),\n",
        " ('Neurite', 'John_Mills_Houston', 1),\n",
        " ('Neurite', 'Franklin_Corwin', 1)]"
       ]
      }
     ],
     "prompt_number": 32
    },
    {
     "cell_type": "code",
     "collapsed": false,
     "input": [
      "set(full['Neurite'][1]).intersection(set(full['Gadolinium'][1]))"
     ],
     "language": "python",
     "metadata": {},
     "outputs": [
      {
       "metadata": {},
       "output_type": "pyout",
       "prompt_number": 144,
       "text": [
        "{'Sun Creator', 'Wavelength'}"
       ]
      }
     ],
     "prompt_number": 144
    },
    {
     "cell_type": "code",
     "collapsed": false,
     "input": [
      "full['Anisocoria'][1]"
     ],
     "language": "python",
     "metadata": {},
     "outputs": [
      {
       "metadata": {},
       "output_type": "pyout",
       "prompt_number": 139,
       "text": [
        "['Wai Hong',\n",
        " 'Dukandricka',\n",
        " 'Chris the speller',\n",
        " 'Vertium',\n",
        " 'Sbmehta',\n",
        " 'Rytyho usa',\n",
        " 'Trappist the monk',\n",
        " 'Kaleid7',\n",
        " 'Scwlong',\n",
        " 'Eleassar',\n",
        " 'Bastilleday uky',\n",
        " 'Jesse V.',\n",
        " 'Deflective',\n",
        " 'Scottalter',\n",
        " 'Pumpkinpeejays',\n",
        " 'CultureDrone',\n",
        " 'Jmcclare',\n",
        " 'Mild Bill Hiccup',\n",
        " 'GeneralBelly',\n",
        " 'AED',\n",
        " 'Hyacinth',\n",
        " 'Docrings',\n",
        " 'TheFruitarian',\n",
        " 'Radomil',\n",
        " 'SimonP',\n",
        " 'Kiatdd',\n",
        " 'Aghorler',\n",
        " 'Nina',\n",
        " 'Rjwilmsi',\n",
        " 'Room429',\n",
        " 'Mdann52',\n",
        " 'Vltavit',\n",
        " 'C6541',\n",
        " 'Fdskjs',\n",
        " 'Fredrik',\n",
        " 'Mimosa.cb',\n",
        " 'Lezduur',\n",
        " 'Fred.Pendleton',\n",
        " 'Benuski',\n",
        " 'Goddord',\n",
        " 'Allie1401',\n",
        " 'Curb Chain',\n",
        " 'Stamptrader',\n",
        " 'Jfurr1981',\n",
        " 'Dr Bilal Alshareef',\n",
        " 'Headbomb',\n",
        " 'Cwtyler',\n",
        " 'DASHBotAV',\n",
        " 'Sanjpatel1',\n",
        " 'Zztzed',\n",
        " 'Graham87',\n",
        " 'William Avery',\n",
        " 'Freikorp',\n",
        " 'Anthonyhcole',\n",
        " 'Angelito7',\n",
        " 'Arcadian',\n",
        " 'Nihiltres',\n",
        " 'The Professorr']"
       ]
      }
     ],
     "prompt_number": 139
    },
    {
     "cell_type": "code",
     "collapsed": false,
     "input": [
      "nx.write_graphml(G,'so.graphml')"
     ],
     "language": "python",
     "metadata": {},
     "outputs": [],
     "prompt_number": 15
    },
    {
     "cell_type": "code",
     "collapsed": false,
     "input": [],
     "language": "python",
     "metadata": {},
     "outputs": []
    }
   ],
   "metadata": {}
  }
 ]
}