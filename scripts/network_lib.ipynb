{
 "metadata": {
  "name": "",
  "signature": "sha256:01cd9b30620ae96628d6039a6b47f053481dffbdb8a0031169d36d0e63d1b631"
 },
 "nbformat": 3,
 "nbformat_minor": 0,
 "worksheets": [
  {
   "cells": [
    {
     "cell_type": "code",
     "collapsed": false,
     "input": [
      "import urllib\n",
      "import xlrd\n",
      "import csv\n",
      "import xml.etree.ElementTree as ET\n",
      "from   unidecode import *\n",
      "import xlwt\n",
      "import sys\n",
      "import re\n",
      "\n",
      "def load_csv(filename):\n",
      "    soups = {}\n",
      "    fil = open(filename, 'rb')\n",
      "    reader = csv.reader(fil, delimiter=',')\n",
      "    for row in reader:\n",
      "        soups[row[0]] = row[1:]\n",
      "    return soups\n",
      "\n",
      "def load_bots(filename):\n",
      "    ret = []\n",
      "    fil = open(filename,'rb')\n",
      "    for line in fil.readlines():\n",
      "        ret.append(line[5:].strip())\n",
      "    return ret"
     ],
     "language": "python",
     "metadata": {},
     "outputs": [],
     "prompt_number": 1
    },
    {
     "cell_type": "code",
     "collapsed": false,
     "input": [
      "lib = load_csv(\"../processed_data/liberal_editors.txt\")\n",
      "cons = load_csv(\"../processed_data/conservative_editors.txt\")\n",
      "science = load_csv(\"../processed_data/science_editors.txt\")"
     ],
     "language": "python",
     "metadata": {},
     "outputs": [],
     "prompt_number": 2
    },
    {
     "cell_type": "code",
     "collapsed": false,
     "input": [
      "bots = load_bots('../all_bots.txt')"
     ],
     "language": "python",
     "metadata": {},
     "outputs": [],
     "prompt_number": 11
    },
    {
     "cell_type": "code",
     "collapsed": false,
     "input": [
      "len(bots)"
     ],
     "language": "python",
     "metadata": {},
     "outputs": [
      {
       "metadata": {},
       "output_type": "pyout",
       "prompt_number": 12,
       "text": [
        "1674"
       ]
      }
     ],
     "prompt_number": 12
    },
    {
     "cell_type": "code",
     "collapsed": false,
     "input": [
      "def strip_bots(group_dict):\n",
      "    total = 0\n",
      "    b = 0\n",
      "    for key in group_dict.keys():\n",
      "        for editor in group_dict[key]:\n",
      "            total = total + 1\n",
      "            if editor in bots:\n",
      "                b = b + 1\n",
      "                group_dict[key].remove(editor)\n",
      "    print float(b)/total\n",
      "    return group_dict"
     ],
     "language": "python",
     "metadata": {},
     "outputs": [],
     "prompt_number": 13
    },
    {
     "cell_type": "code",
     "collapsed": false,
     "input": [
      "def strip_ips(group_dict):\n",
      "    total = 0\n",
      "    b = 0\n",
      "    for key in group_dict.keys():\n",
      "        for editor in group_dict[key]:\n",
      "            total = total + 1\n",
      "            aa=re.match(r\"^\\d{1,3}\\.\\d{1,3}\\.\\d{1,3}\\.\\d{1,3}$\",editor)\n",
      "            if aa or (editor.count(':') >= 5) or (editor[-4:] == '.xxx'):\n",
      "                b = b + 1\n",
      "                group_dict[key].remove(editor)\n",
      "    print float(b)/total\n",
      "    return group_dict"
     ],
     "language": "python",
     "metadata": {},
     "outputs": [],
     "prompt_number": 85
    },
    {
     "cell_type": "code",
     "collapsed": false,
     "input": [
      "lib = strip_bots(lib)\n",
      "lib = strip_bots(lib)\n",
      "lib = strip_bots(lib)\n",
      "lib = strip_bots(lib)"
     ],
     "language": "python",
     "metadata": {},
     "outputs": [
      {
       "output_type": "stream",
       "stream": "stdout",
       "text": [
        "0.0729496577123\n",
        "0.00791071107111"
       ]
      },
      {
       "output_type": "stream",
       "stream": "stdout",
       "text": [
        "\n",
        "0.000108077573759"
       ]
      },
      {
       "output_type": "stream",
       "stream": "stdout",
       "text": [
        "\n",
        "0.0"
       ]
      },
      {
       "output_type": "stream",
       "stream": "stdout",
       "text": [
        "\n"
       ]
      }
     ],
     "prompt_number": 15
    },
    {
     "cell_type": "code",
     "collapsed": false,
     "input": [
      "cons = strip_bots(cons)\n",
      "cons = strip_bots(cons)\n",
      "cons = strip_bots(cons)\n",
      "cons = strip_bots(cons)"
     ],
     "language": "python",
     "metadata": {},
     "outputs": [
      {
       "output_type": "stream",
       "stream": "stdout",
       "text": [
        "0.062246382002\n",
        "0.00536457965695"
       ]
      },
      {
       "output_type": "stream",
       "stream": "stdout",
       "text": [
        "\n",
        "4.39361106186e-05"
       ]
      },
      {
       "output_type": "stream",
       "stream": "stdout",
       "text": [
        "\n",
        "0.0"
       ]
      },
      {
       "output_type": "stream",
       "stream": "stdout",
       "text": [
        "\n"
       ]
      }
     ],
     "prompt_number": 16
    },
    {
     "cell_type": "code",
     "collapsed": false,
     "input": [
      "science = strip_bots(science)\n",
      "science = strip_bots(science)\n",
      "science = strip_bots(science)\n",
      "science = strip_bots(science)"
     ],
     "language": "python",
     "metadata": {},
     "outputs": [
      {
       "output_type": "stream",
       "stream": "stdout",
       "text": [
        "0.0561980010714\n",
        "0.00532052997469"
       ]
      },
      {
       "output_type": "stream",
       "stream": "stdout",
       "text": [
        "\n",
        "9.65816533491e-05"
       ]
      },
      {
       "output_type": "stream",
       "stream": "stdout",
       "text": [
        "\n",
        "0.0"
       ]
      },
      {
       "output_type": "stream",
       "stream": "stdout",
       "text": [
        "\n"
       ]
      }
     ],
     "prompt_number": 17
    },
    {
     "cell_type": "code",
     "collapsed": false,
     "input": [
      "lib = strip_ips(lib)\n",
      "lib = strip_ips(lib)\n",
      "lib = strip_ips(lib)\n",
      "lib = strip_ips(lib)\n",
      "lib = strip_ips(lib)\n",
      "lib = strip_ips(lib)"
     ],
     "language": "python",
     "metadata": {},
     "outputs": [
      {
       "output_type": "stream",
       "stream": "stdout",
       "text": [
        "0.000180138073399\n",
        "0.0"
       ]
      },
      {
       "output_type": "stream",
       "stream": "stdout",
       "text": [
        "\n",
        "0.0"
       ]
      },
      {
       "output_type": "stream",
       "stream": "stdout",
       "text": [
        "\n",
        "0.0"
       ]
      },
      {
       "output_type": "stream",
       "stream": "stdout",
       "text": [
        "\n",
        "0.0"
       ]
      },
      {
       "output_type": "stream",
       "stream": "stdout",
       "text": [
        "\n",
        "0.0"
       ]
      },
      {
       "output_type": "stream",
       "stream": "stdout",
       "text": [
        "\n"
       ]
      }
     ],
     "prompt_number": 86
    },
    {
     "cell_type": "code",
     "collapsed": false,
     "input": [
      "cons = strip_ips(cons)\n",
      "cons = strip_ips(cons)\n",
      "cons = strip_ips(cons)\n",
      "cons = strip_ips(cons)\n",
      "cons = strip_ips(cons)\n",
      "cons = strip_ips(cons)"
     ],
     "language": "python",
     "metadata": {},
     "outputs": [
      {
       "output_type": "stream",
       "stream": "stdout",
       "text": [
        "0.000157191369652\n",
        "0.0"
       ]
      },
      {
       "output_type": "stream",
       "stream": "stdout",
       "text": [
        "\n",
        "0.0"
       ]
      },
      {
       "output_type": "stream",
       "stream": "stdout",
       "text": [
        "\n",
        "0.0"
       ]
      },
      {
       "output_type": "stream",
       "stream": "stdout",
       "text": [
        "\n",
        "0.0"
       ]
      },
      {
       "output_type": "stream",
       "stream": "stdout",
       "text": [
        "\n",
        "0.0"
       ]
      },
      {
       "output_type": "stream",
       "stream": "stdout",
       "text": [
        "\n"
       ]
      }
     ],
     "prompt_number": 87
    },
    {
     "cell_type": "code",
     "collapsed": false,
     "input": [
      "science = strip_ips(science)\n",
      "science = strip_ips(science)\n",
      "science = strip_ips(science)\n",
      "science = strip_ips(science)\n",
      "science = strip_ips(science)\n",
      "science = strip_ips(science)"
     ],
     "language": "python",
     "metadata": {},
     "outputs": [
      {
       "output_type": "stream",
       "stream": "stdout",
       "text": [
        "0.000756443070373\n",
        "4.43479770354e-06"
       ]
      },
      {
       "output_type": "stream",
       "stream": "stdout",
       "text": [
        "\n",
        "0.0"
       ]
      },
      {
       "output_type": "stream",
       "stream": "stdout",
       "text": [
        "\n",
        "0.0"
       ]
      },
      {
       "output_type": "stream",
       "stream": "stdout",
       "text": [
        "\n",
        "0.0"
       ]
      },
      {
       "output_type": "stream",
       "stream": "stdout",
       "text": [
        "\n",
        "0.0"
       ]
      },
      {
       "output_type": "stream",
       "stream": "stdout",
       "text": [
        "\n"
       ]
      }
     ],
     "prompt_number": 88
    },
    {
     "cell_type": "code",
     "collapsed": false,
     "input": [
      "def strip_smackbot(group_dict):\n",
      "    total = 0\n",
      "    b = 0\n",
      "    for key in group_dict.keys():\n",
      "        for editor in group_dict[key]:\n",
      "            total = total + 1\n",
      "            if editor == 'SmackBot':\n",
      "                b = b + 1\n",
      "                group_dict[key].remove(editor)\n",
      "            elif editor == '':\n",
      "                b = b + 1\n",
      "                group_dict[key].remove(editor)\n",
      "    print float(b)/total\n",
      "    return group_dict"
     ],
     "language": "python",
     "metadata": {},
     "outputs": [],
     "prompt_number": 22
    },
    {
     "cell_type": "code",
     "collapsed": false,
     "input": [
      "lib = strip_smackbot(lib)"
     ],
     "language": "python",
     "metadata": {},
     "outputs": [
      {
       "output_type": "stream",
       "stream": "stdout",
       "text": [
        "0.0\n"
       ]
      }
     ],
     "prompt_number": 24
    },
    {
     "cell_type": "code",
     "collapsed": false,
     "input": [
      "cons = strip_smackbot(cons)"
     ],
     "language": "python",
     "metadata": {},
     "outputs": [
      {
       "output_type": "stream",
       "stream": "stdout",
       "text": [
        "0.0\n"
       ]
      }
     ],
     "prompt_number": 26
    },
    {
     "cell_type": "code",
     "collapsed": false,
     "input": [
      "science = strip_smackbot(science)"
     ],
     "language": "python",
     "metadata": {},
     "outputs": [
      {
       "output_type": "stream",
       "stream": "stdout",
       "text": [
        "0.0\n"
       ]
      }
     ],
     "prompt_number": 28
    },
    {
     "cell_type": "code",
     "collapsed": false,
     "input": [],
     "language": "python",
     "metadata": {},
     "outputs": []
    },
    {
     "cell_type": "code",
     "collapsed": false,
     "input": [
      "def make_net_dict():\n",
      "    ret = {}\n",
      "    for key in lib.keys():\n",
      "        ret[key] = ['liberal', lib[key]]\n",
      "    for key in cons.keys():\n",
      "        k = key[62:-8]\n",
      "        ret[k] = ['conservative', cons[key]]\n",
      "    for key in science.keys():\n",
      "        k = key[57:-8]\n",
      "        ret[k] = ['science', science[key]]\n",
      "    return ret\n",
      "\n",
      "full = make_net_dict()\n",
      "len(full)\n",
      "\n",
      "            "
     ],
     "language": "python",
     "metadata": {},
     "outputs": [
      {
       "metadata": {},
       "output_type": "pyout",
       "prompt_number": 89,
       "text": [
        "35685"
       ]
      }
     ],
     "prompt_number": 89
    },
    {
     "cell_type": "code",
     "collapsed": false,
     "input": [
      "out = open(\"../processed_data/cleaned_editors_full.txt\", 'wb')\n",
      "wb = csv.writer(out)\n",
      "for key in full.keys():\n",
      "    wb.writerow([key, full[key][0]] + full[key][1])\n",
      "out.close()"
     ],
     "language": "python",
     "metadata": {},
     "outputs": [],
     "prompt_number": 90
    },
    {
     "cell_type": "code",
     "collapsed": false,
     "input": [
      "def load_clean(filename):\n",
      "    soups = {}\n",
      "    fil = open(filename, 'rb')\n",
      "    reader = csv.reader(fil, delimiter=',')\n",
      "    for row in reader:\n",
      "        soups[row[0]] = [row[1], row[2:]]\n",
      "    return soups"
     ],
     "language": "python",
     "metadata": {},
     "outputs": [],
     "prompt_number": 2
    },
    {
     "cell_type": "code",
     "collapsed": false,
     "input": [
      "full = load_clean('../processed_data/cleaned_editors_full.txt')"
     ],
     "language": "python",
     "metadata": {},
     "outputs": [],
     "prompt_number": 3
    },
    {
     "cell_type": "code",
     "collapsed": false,
     "input": [
      "full[full.keys()[0]]"
     ],
     "language": "python",
     "metadata": {},
     "outputs": [
      {
       "metadata": {},
       "output_type": "pyout",
       "prompt_number": 4,
       "text": [
        "['science',\n",
        " ['Mmm~enwiki',\n",
        "  'Bearcat',\n",
        "  \"R'n'B\",\n",
        "  'PhD Dre',\n",
        "  'Sun Creator',\n",
        "  'Favonian',\n",
        "  'Dycedarg',\n",
        "  'Wikiklrsc',\n",
        "  'JaGa',\n",
        "  'Marc Gabriel Schmid',\n",
        "  'Tmangray',\n",
        "  'Arcadian',\n",
        "  'Archibald Tuttle',\n",
        "  'Malcolma',\n",
        "  'Theshizzler',\n",
        "  'Wavelength',\n",
        "  'Skyerise']]"
       ]
      }
     ],
     "prompt_number": 4
    },
    {
     "cell_type": "code",
     "collapsed": false,
     "input": [
      "political_dic = {}\n",
      "for key in full.keys():\n",
      "    if full[key][0] in ['liberal', 'conservative']:\n",
      "        for editor in full[key][1]:\n",
      "            political_dic[editor] = []\n",
      "for key in full.keys():\n",
      "    if full[key][0] in ['liberal', 'conservative']:\n",
      "        for editor in full[key][1]:\n",
      "            political_dic[editor].append(full[key][0])\n",
      "t = 0\n",
      "d = 0\n",
      "for k in political_dic.keys():\n",
      "    if len(set(political_dic[k])) > 1:\n",
      "        d = d + 1\n",
      "    t = t + 1\n",
      "\n",
      "print d\n",
      "print t\n",
      "print float(d)/t"
     ],
     "language": "python",
     "metadata": {},
     "outputs": [
      {
       "output_type": "stream",
       "stream": "stdout",
       "text": [
        "30709\n",
        "135415\n",
        "0.226776944947\n"
       ]
      }
     ],
     "prompt_number": 94
    },
    {
     "cell_type": "code",
     "collapsed": false,
     "input": [
      "editor_dic = {}\n",
      "for key in full.keys():\n",
      "    for editor in full[key][1]:\n",
      "        editor_dic[editor] = []\n",
      "for key in full.keys():\n",
      "    for editor in full[key][1]:\n",
      "        editor_dic[editor].append(full[key][0])\n",
      "t1 = 0\n",
      "d1 = 0\n",
      "for k in editor_dic.keys():\n",
      "    if ('science' in set(editor_dic[k])):\n",
      "        t1 = t1 + 1\n",
      "        if (len(set(editor_dic[k])) > 1):\n",
      "            d1 = d1 + 1\n",
      "\n",
      "print d1\n",
      "print t1\n",
      "print float(d1)/t1\n",
      "\n",
      "#print set(science_list).intersection(liberal_list).union(set(science_list).intersection(conservative_list))\n",
      "print len(set(science_list))"
     ],
     "language": "python",
     "metadata": {},
     "outputs": [
      {
       "output_type": "stream",
       "stream": "stdout",
       "text": [
        "46635\n",
        "320141\n",
        "0.145670189073\n",
        "320611"
       ]
      },
      {
       "output_type": "stream",
       "stream": "stdout",
       "text": [
        "\n"
       ]
      }
     ],
     "prompt_number": 95
    },
    {
     "cell_type": "code",
     "collapsed": false,
     "input": [
      "liberal_list = []\n",
      "conservative_list = []\n",
      "science_list = []\n",
      "for key in full.keys():\n",
      "    if full[key][0] == 'liberal':\n",
      "        liberal_list.extend(full[key][1])\n",
      "    elif full[key][0] == 'conservative':\n",
      "        conservative_list.extend(full[key][1])\n",
      "    elif full[key][0] == 'science':\n",
      "        science_list.extend(full[key][1])\n",
      "article_d = {}\n",
      "d2 = 0\n",
      "t2 = 0\n",
      "\n",
      "both = set(liberal_list).intersection(set((conservative_list)))\n",
      "for key in full.keys():\n",
      "    if full[key][0] in ['liberal', 'conservative']:\n",
      "        t2 = t2 + 1\n",
      "        local = 0\n",
      "        for editor in full[key][1]:\n",
      "            if editor in both:\n",
      "                local = local + 1\n",
      "        if local:\n",
      "            d2 = d2 + 1\n",
      "\n",
      "print d2\n",
      "print t2\n",
      "print float(d2)/t2"
     ],
     "language": "python",
     "metadata": {},
     "outputs": [
      {
       "output_type": "stream",
       "stream": "stdout",
       "text": [
        "17896\n",
        "17905\n",
        "0.99949734711\n"
       ]
      }
     ],
     "prompt_number": 96
    },
    {
     "cell_type": "code",
     "collapsed": false,
     "input": [
      "print len(set(liberal_list).intersection(set((conservative_list))))\n",
      "print len(set(liberal_list).union(set(conservative_list)))\n",
      "print float(30724)/135494"
     ],
     "language": "python",
     "metadata": {},
     "outputs": [
      {
       "output_type": "stream",
       "stream": "stdout",
       "text": [
        "30709\n",
        "135415"
       ]
      },
      {
       "output_type": "stream",
       "stream": "stdout",
       "text": [
        "\n",
        "0.226755428285\n"
       ]
      }
     ],
     "prompt_number": 97
    },
    {
     "cell_type": "code",
     "collapsed": false,
     "input": [
      "article_d = {}\n",
      "d3 = 0\n",
      "t3 = 0\n",
      "political = set(liberal_list).union(set(conservative_list))\n",
      "poli_sci = political.intersection(set(science_list))\n",
      "for key in full.keys():\n",
      "    if full[key][0] in ['science']:\n",
      "        t3 = t3 + 1\n",
      "        local = 0\n",
      "        for editor in full[key][1]:\n",
      "            if editor in poli_sci:\n",
      "                local = local + 1\n",
      "        if local:\n",
      "            d3 = d3 + 1\n",
      "                \n",
      "                \n",
      "\n",
      "print d3\n",
      "print t3\n",
      "print float(d3)/t3"
     ],
     "language": "python",
     "metadata": {},
     "outputs": [
      {
       "output_type": "stream",
       "stream": "stdout",
       "text": [
        "16350\n",
        "17780\n",
        "0.919572553431\n"
       ]
      }
     ],
     "prompt_number": 98
    },
    {
     "cell_type": "code",
     "collapsed": false,
     "input": [
      "len(editor_dic.keys())"
     ],
     "language": "python",
     "metadata": {},
     "outputs": [
      {
       "metadata": {},
       "output_type": "pyout",
       "prompt_number": 99,
       "text": [
        "408921"
       ]
      }
     ],
     "prompt_number": 99
    },
    {
     "cell_type": "code",
     "collapsed": false,
     "input": [
      "s = sorted(poli_sci)\n",
      "print s[:1000]"
     ],
     "language": "python",
     "metadata": {},
     "outputs": [
      {
       "output_type": "stream",
       "stream": "stdout",
       "text": [
        "['!Silent', '!dea4u', '!melquiades', '$1LENCE D00600D', '$wgUser', '$yD!', '(', '(3ucky(3all', '(:Julien:)', '(aeropagitica)', \"(don't talk secrets)\", '(jarbarf)', '(\\xeb\\xac\\xb4\\xeb\\x8b\\xa8\\xed\\x8c\\x94\\xea\\xb7\\xb9\\xea\\xb6\\x8c)', '***Ria777', '*Kat*', '*drew', '*feridi\\xc3\\xa1k', ',,n', '- )', '- tSR - Nth Man', '-- -- --', '-- April', '-1g', '-5-', '-Anthony-', '-Barry-', '-Fire-', '-Ilhador-', '-Kerplunk-', '-Midorihana-', '-Ril-', '-Stamps95', '-The Bold Guy-', '-asx-', '-iNu-', '-m-i-k-e-y-', '-oo0(GoldTrader)0oo-', '-revi', '-ross616-', '-sche', '-xfi-', '...---...SOS', '...adam...', '.:Ajvol:.', '.Absolution.', '.Koen', '.V.', '.anaconda', '.anacondabot', '.derf', '.mau.', '.mdk.', '0', '0001', '00129', '00666', '007 Argentina', '007david', '01001', '01Chris02', '01kkk', '031586', '03md', '041744', '04jessops', '069952497a', '0704monochrome', '070time070', '07agwatts', '08OceanBeach SD', '08toi', '09aidepikiw', '09sacjac', '0dd1', '0g1o2i3k4e5n6', '0kmck4gmja', '0nullbinary0', '0x0077BE', '0x539', '0x6D667061', '0x845FED', '0xFFFF', '0zymandias', '1.618033989', '100110100', '1007D', '100percentrecord', '101090ABC', '102orion', '10FingerJoe', '10lbs of potatoes', '10metreh', '10qwerty', '10stone5', '11 Arlington', '1122334455', '115ash', '11614soup', '117Avenue', '119', '11achitturi', '11kowrom', '11tas', '11vert11', '12 Ayushi', '12 Noon', '1210Poppy', '121a0012', '122589423KM', '1234r00t', '123957a', '123Hedgehog456', '123username', '128.104.truth', '1297', '12dstring', '12george1', '12iknoweverything21', '12va34', '13 of Diamonds', '13afuse', '13ov7', '149AFK', '14Ave', '14GTR', '14brunov', '15.253', '1523', '1549bcp', '159753', '15Xin', '15lsoucy', '15turnsm', '1652186', '16761', '16@r', '16sectors', '171046', '172', '172.5', '1779Days', '17A Africa', '17Drew', '17purdyr', '1812ahill', '1836311903', '18alex12', '19.168', '19.7', '1958publius', '1969', '198', '1980fast', '1982vdven', '1984', \"1990'sguy\", '1995hoo', '19XAVO90', '1ForTheMoney', '1JRJORDAN1', '1ST7', '1Veertje', '1archie99', '1brettsnyder', '1diot', '1dragon', '1exec1', '1harperj', '1oddbins1', '1of3', '1pezguy', '1qase4rfgy7', '1redrun', '1shields1', '1sneakers6', '1st.zorphs', '1up', '1victoria', '1wheel', '1yesfan', '1zackman', '2', '2001:db8', '2004-12-29T22:45Z', '2005', '2005-01-21T13:57Z', '2005-01-31T01:24Z', '2005-02-26T18:45Z', '2012Olympian', '205ywmpq', '20percent', '20yearoldboyfromNY', '2112 rush', '212district', '21655', '21lima', '21stCenturyGreenstuff', '22 Male Cali', '220 of Borg', '22dragon22burn', '23 editor', '235N', '23W', '23haveblue', '23prootie', '23skidoo', '23th', '24dot', '24fan24', '24ip', '25or6to4', '25~enwiki', '260 West', '264356triv', '26oo', '27 Juni', '271828182', '2812', '28421u2232nfenfcenc', '28bytes', '293.xx.xxx.xx', '296.x', '2CrudeDudes', '2D', '2Flows', '2IzSz', '2T', '2bornot2b', '2centplain', '2deseptiembre', '2enable', '2fort5r', '2freespace', '2help', '2hiyup2', '2nd Piston Honda', '2over0', '2pac 2007', '2sc945', '2tuntony', '30.215', '30silverplz', '3210', '32X', '331dot', '334a', '336', '345Kai', '345th', '34h5', '34oj6h', '37ophiuchi', '391 loser', '3ICE', '3Jane', '3R1C', '3eguoxn02', '3finger', '3idiot', '3l3phant', '3pointswish', '3rdman', '3sides', '3tmx', '3velvet3', '42and5', '42omle', '45435g', '45Factoid44', '478jjjz', '47SweetBirdofYouth85', '48Lugur', '48states', '49ersBelongInSanFrancisco', '4I7.4I7', '4Jays1034', '4Russeteer', '4c3 Defender', '4giron', '4granite', '4idaho', '4inarow', '4meter4', '4trw', '4twenty42o', '4wajzkd02', '5 albert square', '5 octaves', '5-HT8', '5.41', '50lover2020', '52 Pickup', '545lljkr', '5464536', '54gsze4ghz5', '564dude', '578', '5Q5', '5hin3', '5ko', '5minutes', '60995shift3', '61-1099lm', '613 The Evil', '636Buster', '63x927is58401', '6SJ7', '6a4fe8aa039615ebd9ddb83d6acf9a1dc1b684f7', '6afraidof7', '6ii9', '7', '7&6=thirteen', '7157.118.25a', '7258', '7265', '72Dino', '732SOUTHPAW', '7434be', '75pickup', '75th Trombone', '777sms', '78.26', '786b6364', '790', '79spirit', '7Sidz', '7e7', '7h3 3L173', '7mike5000', '7partparadigm', '80-MAN', '83d40m', '842U', '84denniswong', '84user', '8675309', '87v7t76fc4iguwevf7657436253yd4fug754ws67dtfugiy67t8576', '88wolfmaster', '8bitJake', '8digits', '8th Ohio Volunteers', '8thstar', '8ung3st', '9.253', '90', '90 Auto', '900mill', '9014user', '903M', '9258fahsflkh917fas', '92slim', '93', '95j', '96T', '97198', '999~enwiki', '99DBSIMLR', '99appleseed', '9Nak', '9Questions', '9cds', '9eyedeel', '9olive7', '9potterfan', '9tmaxr', '=CJK=', '@pple', 'A Clown in the Dark', 'A D 13', 'A D Monroe III', 'A Doon', 'A F K When Needed', 'A Gounaris', 'A Kit', 'A Knavish Bonded', 'A Man In Black', 'A More Perfect Onion', 'A Musing', 'A Nobody', 'A Quest For Knowledge', 'A Raider Like Indiana', 'A Second Man in Motion', 'A Sniper', 'A Softer Answer', 'A Stop at Willoughby', 'A Texas Historian', 'A Thousand Doors', 'A Train', 'A Werewolf', 'A Wikipedia user from Minnesota', 'A bit iffy', 'A dullard', 'A guy saved by Jesus', 'A gx7', 'A lemle', 'A little insignificant', 'A little mollusk', 'A man in space', 'A p3rson', 'A plague of rainbows', 'A purple wikiuser', 'A wild Rattata', 'A-giau', 'A. B.', 'A. Balet', 'A. Carty', 'A. Exeunt', 'A. Parrot', 'A. di M.', 'A.C. Norman', 'A.Feldman', 'A.G. Pinkwater', 'A.J.A.', 'A.J.Chesswas', 'A.Jacobin', 'A.K.A.47', 'A.Kurtz', 'A.M.962', 'A.Minkowiski', 'A.Nath', 'A.Ou', 'A.R.', 'A.S. Brown', 'A.T. Horsfield', 'A.T.S. in Texas', 'A.V.~enwiki', 'A.Ward', 'A.amitkumar', 'A.b.s', 'A.bit', 'A.w.stephens', 'A0602336', 'A1%', 'A10brown', 'A12n', 'A13ean', 'A2-33', 'A2-computist', 'A21sauce', 'A2Kafir', 'A314268', 'A333', 'A3RO', 'A3ng3l', 'A3nm', 'A3r0', 'A412', 'A455bcd9', 'A520', 'A7x', 'A876', 'A8UDI', 'A8v', 'A930913', 'AA', 'AAA!', 'AAA765', 'AAAAA', 'AABoyles', 'AB', 'AB Blake', 'ABAsite', 'ABCD', 'ABCDEFAD', 'ABCXYZ', 'ABF', 'ABVR', 'ABehrens', 'ABurness', 'AC', 'AC+79 3888', 'ACBest', 'ACEOREVIVED', 'ACP2011', 'ACSE', 'ACT1', 'ACW', 'ACase0000', 'ACinfo', 'ACupOfCoffee', 'ADDgrammar', 'ADHD420', 'ADM', 'ADTS1', 'ADavisCurry', 'ADman', 'AED', 'AEMoreira042281', 'AEdwards', 'AEton', 'AFA', 'AGK', 'AGToth', 'AGeorgas', 'AGreenEarth', 'AH999', 'AHLM13', 'AHM', 'AHMartin', 'AHRtbA==', 'AHands', 'AHeneen', 'AI', 'AIUI', 'AJ Clarkier', 'AJ Mars', 'AJCham', 'AJGordonWright', 'AJHalliwell', 'AJMW', 'AJP', 'AJR', 'AJarvis', 'AJay17', 'AJim', 'AJseagull1', 'AK456', 'AK7', 'AKABumba', 'AKADriver', 'AKGhetto', 'AKMask', 'AKS.9955', 'AKeckarov', 'AKeen', 'ALE!', 'ALK', 'ALL HAIL MEGATRON!', 'ALLurGroceries', 'ALM scientist', 'ALOHARONN', 'ALadinN', 'ALargeElk', 'AM01NU06', 'AMCKen', 'AMD', 'AMFriedman', 'AMK1211', 'AMK152', 'AMRDeuce', 'AMV512', 'AMackenzie', 'AManWithNoPlan', 'AMittelman', 'AMuseo', 'AN(Ger)', 'ANOMALY-117', 'ANTIcarrot', 'AOB', 'AOC25', 'AOCJedi', 'AOL account', 'AP Shinobi', 'AP1787', 'AP3 10', 'APB-CMX', 'APOCOLYPSE7', 'APPER', 'APT', 'APTEM', 'APerson', 'APoincot', 'AQUIMISMO', 'ARC Gritt', 'ARHAPSTF', 'ARK', 'ARTEST4ECHO', 'ARUNKUMAR P.R', 'ARog', 'ASCIIn2Bme', 'ASDFGH', 'ASDFGHJKL', 'ASOTMKX', 'ASmallPatchOfShadow', 'AStudent', 'ASwann', 'ATC', 'ATX-NL', 'AThing', 'ATinySliver', 'ATren', 'AUG', 'AV3000', 'AVIosad', 'AVKent882', 'AVM', 'AVRS', 'AVX', 'AVand', 'AWeenieMan', 'AWhiteC', 'AWoodland', 'AXRL', 'AYousefzai', 'AZDub', 'Aa77zz', 'AaRH', 'Aaabbb11', 'Aaaccc', 'Aaaeditor', 'Aaarrrggh', 'Aaaxlp', 'Aabesi', 'Aabha R', 'Aacugna', 'AadaamS', 'Aaeamdar', 'Aagtbdfoua', 'Aaker', 'Aamsse', 'Aanderson@amherst.edu', 'Aanghelescu', 'Aanhorn', 'Aapelle', 'Aapjes', 'Aapo Laitinen', 'Aapter', 'AarHan3', 'Aarash', 'Aarchiba', 'Aardvark92', 'Aardvarkzz', 'Aarem', 'Aarktica', 'AarnKrry', 'Aaron', 'Aaron Booth', 'Aaron Bowen', 'Aaron Brenneman', 'Aaron D. Ball', 'Aaron McDaid', 'Aaron Pannell', 'Aaron Schulz', 'Aaron Walden', 'Aaron Will', 'Aaron charles', 'Aaron mcd', 'Aaron north', 'Aaron of Mpls', 'Aaron-Tripel', 'Aaron71894', 'Aaron7chicago', 'Aaron98990', 'AaronCBurke', 'AaronFX', 'AaronJBiterman', 'AaronLK', 'AaronPaige', 'AaronRoe', 'AaronS', 'AaronSw', 'AaronW', 'AaronY', 'Aaronaaron96', 'Aaronak', 'Aaronbob95', 'Aaronbrick', 'Aaronchall', 'Aaroncrick', 'Aarondaniel652', 'Aaronhill', 'Aaronjhill', 'Aaronmz', 'Aaronp808', 'Aaronproot', 'Aaronrp', 'Aaronshavit', 'Aaronshaw', 'Aaronthered', 'Aaronw', 'Aaronwayneodonahue', 'Aaronwinborn', 'AaronzAccount', 'Aarp65', 'Aartie', 'Aaru Bui', 'AaryckSmiff', 'Aashaa', 'Aasloan', 'Aasmith', 'Aatomic1', 'Aatox', 'Aazeez', 'Ab762', 'AbJ32', 'Abacab', 'Abacchus', 'Abacchus1974', 'Abach', 'Abalinson', 'Abaroness', 'Abarry', 'Abasia', 'Abattoir666', 'Abb3w', 'AbbaIkea2010', 'Abberley2', 'Abbott75', 'Abby', 'AbbyKelleyite', 'Abc518', 'Abc85', 'AbcXyz', 'Abcd2357', 'Abce2', 'Abceasyas', 'Abd', 'Abdowiki', 'Abduallah mohammed', 'Abductive', 'Abdul Muhib', 'Abdull', 'Abdullahazzam', 'Abdullais4u', 'Abe.Froman', 'Abebenjoe', 'Abecedare', 'Abeg92', 'Abegaza', 'Aberglaube', 'Aberwulf', 'Abesottedphoenix', 'Abh9h', 'Abhas2002', 'Abhiag', 'Abhijitsathe', 'Abhinav', 'Abhishekbh', 'Abhishekitmbm', 'Abhishikt', 'Abi79', 'Abie the Fish Peddler', 'Abierma3', 'Abigail-II', 'AbigailAbernathy', 'Abigailgem', 'Abigali', 'Abisai', 'Ablewisuk', 'Abmac', 'Aboctok', 'Abog', 'Abomasnow', 'Aborlan', 'Aborrows', 'Abou Ben Adhem', 'Aboudaqn', 'Abours', 'AboutWeezer', 'Aboutmovies', 'Above others', 'Abqwildcat', 'Abracadab', 'Abracadabra777', 'Abraham, B.S.', 'Abrahami', 'Abramjackson', 'Abramsky', 'Abrazame', 'Abrech', 'Abrio', 'Abromowitz', 'Abrothman', 'Abscissa', 'Absconded Northerner', 'Absconditus', 'Absecon 59', 'Absolon', 'AbsolutDan', 'AbsoluteGleek92', 'Abstract Idiot', 'AbstractClass', 'AbstractEpiphany', 'AbstractIllusions', 'Abstrakt', 'Abstrakt1', 'Abstruce', 'Absurdist', 'Absurdist1968', 'Abtinb', 'Abtract', 'Abu ali', 'Abu badali', 'Abu-Dun', 'Abu-Fool Danyal ibn Amir al-Makhiri', 'Abulanov', 'Abunakhli', 'Abundant~enwiki', 'Abune', 'Abyssadventurer', 'Ac101', 'Ac2k', 'Aca Srbin', 'Acabashi', 'Acabtp', 'Acad Ronin', 'Academic Challenger', 'Academic decathlete', 'Academic38', 'Academician', 'Acad\\xc4\\x93mica Orient\\xc4\\x81lis', 'Acaeton', 'Acaides', 'Acalamari', 'Acalycine', 'Acampbell1953', 'Acaryatid', 'Acather96', 'Acaudel', 'Acbertrand', 'Acc78', 'Accas1', 'Accedie', 'Accentman', 'Access Denied', 'Accordionman', 'Accotink2', 'Accounting4Taste', 'Acctorp', 'Accubam', 'Accurate Nuanced Clear', 'Accurizer', 'Accusativen hos Olsson', 'Acdixon', 'Acdx', 'Ace Class Shadow', 'Ace ETP', 'Ace Frahm', 'Ace Telephone', 'Ace of Raves', 'Ace of Sevens', 'Ace of Spades', 'Ace-o-aces', 'Ace1press', 'Ace2209', 'AceOfHeartsX3', 'Acebrock', 'Acebulf', 'Acefox', 'Acegikmo1', 'Aceholiday', 'Aceino', 'Acer', 'Acerbicattrition', 'Acerperi', 'Acetic Acid', 'Acetotyce', 'Acewillett', 'Acewolf359', 'Acgator09', 'Acha11', 'Achangeisasgoodasa', 'Achero', 'Achika54', 'Achilles', 'Achitnis', 'Achmelvic', 'Achowat', 'Achromatic', 'Achurch', 'Acidburn24m', 'Acidskater', 'Aciram', 'Acire93', 'Acirema', 'Acitrano', 'Acjelen', 'Acm', 'Acmthompson', 'Acntx', 'Acoma Magic', 'Acooley', 'Acornwebworks', 'Acps110', 'Acq3', 'Acrider', 'Acrilico', 'Across.The.Synapse', 'Acroterion', 'Acs4b', 'Acsian88', 'Act333', 'Actio', 'Action Jackson IV', 'Action potential', 'ActivExpression', 'Active Banana', 'Activism1234', 'Activist', 'Acumensch', 'Acwilson9', 'Ad Nauseam', 'Ad Orientem', 'Ad13245', 'AdRem', 'AdRock', 'AdSR', 'Adabow', 'Adagio', 'Adagio Cantabile', 'Adailton', 'Adair2324', 'Adam Bishop', 'Adam Brink', 'Adam Cameron Smith', 'Adam Carr', 'Adam Chlipala', 'Adam Clark', 'Adam Conover', 'Adam Cuerden', 'Adam Faanes', 'Adam Holland', 'Adam Keller', 'Adam McMaster', 'Adam Rock', 'Adam keller', 'Adam sk', 'Adam.J.W.C.', 'Adam1213', 'Adam2005~enwiki', 'Adam37', 'Adam78', 'Adam7davies', 'Adam850', 'Adam9007', 'Adam9389', 'AdamBMorgan', 'AdamCarden', 'AdamClarke', 'AdamDeanHall', 'AdamGomaa', 'AdamJacobMuller', 'AdamJaz', 'AdamRaizen', 'AdamRetchless', 'AdamRoach', 'AdamSmithee', 'AdamSolomon', 'AdamSommerton', 'AdamW', 'AdamWeeden', 'AdamWill', 'Adamahill', 'AdamantlyMike', 'Adambiswanger1', 'Adambondy', 'Adambro', 'Adamdavida', 'Adamfinmo', 'Adamn', 'Adamnelson', 'Adamore', 'Adamreinman', 'Adamrice', 'Adamrossi', 'Adamrush', 'Adamsan', 'Adamschneider', 'Adamsconnor1', 'Adamshappy', 'Adamsim', 'Adamsjrcn', 'Adamv88', 'Adamwankenobi', 'Adaobi', 'Adashiel', 'Adaub6424', 'Adavidb', 'Adavidw', 'Adawablk', 'Adazka', 'Adbarnhart', 'Adcro', 'AddWittyNameHere', 'Addbc', 'Addboy', 'Addere', 'Addict 2006', 'Addihockey10', 'Addit', 'AdditionSubtraction', 'Addps4cat', 'Addshore', 'Ade myers', 'Ade oshineye', 'Ade1982', 'AdelaMae', 'Adelesse', 'Adeliine', 'Adelphious', 'Adelson Velsky Landis', 'Adenosine', 'Aderksen', 'Adhib', 'Adhominem', 'Adi4094', 'AdiJapan', 'Adiclaud', 'Adidaskid', 'Adimantium~enwiki']\n"
       ]
      }
     ],
     "prompt_number": 100
    },
    {
     "cell_type": "code",
     "collapsed": false,
     "input": [
      "import networkx as nx\n",
      "import itertools\n",
      "\n",
      "comb = itertools.combinations(full.keys(), 2)\n",
      "temp = []\n",
      "\n",
      "for tup in comb:\n",
      "    first = full[tup[0]][1]\n",
      "    second = full[tup[1]][1]\n",
      "    weight = len(set(first).intersection(set(second)))\n",
      "    if weight > 0:\n",
      "        temp.append((tup[0], tup[1], weight))\n"
     ],
     "language": "python",
     "metadata": {},
     "outputs": []
    },
    {
     "cell_type": "code",
     "collapsed": false,
     "input": [
      "len(temp)"
     ],
     "language": "python",
     "metadata": {},
     "outputs": [
      {
       "metadata": {},
       "output_type": "pyout",
       "prompt_number": 7,
       "text": [
        "20143816"
       ]
      }
     ],
     "prompt_number": 7
    },
    {
     "cell_type": "code",
     "collapsed": false,
     "input": [
      "full['Joseph_W_Chalmers']"
     ],
     "language": "python",
     "metadata": {},
     "outputs": [
      {
       "metadata": {},
       "output_type": "pyout",
       "prompt_number": 105,
       "text": [
        "['liberal',\n",
        " ['RogDel',\n",
        "  'Thismightbezach',\n",
        "  'Canuckian89',\n",
        "  'Parkwells',\n",
        "  'VIAFbot',\n",
        "  'PaulHanson',\n",
        "  'The Mystery Man',\n",
        "  'Rklear',\n",
        "  'Waacstats',\n",
        "  'OccultZone',\n",
        "  'Floydspinky71',\n",
        "  'Good Olfactory',\n",
        "  'ScooterDe']]"
       ]
      }
     ],
     "prompt_number": 105
    },
    {
     "cell_type": "code",
     "collapsed": false,
     "input": [
      "set(full['Joseph_W_Chalmers'][1]).intersection(set(full['James_Graham_Fair'][1]))"
     ],
     "language": "python",
     "metadata": {},
     "outputs": [
      {
       "metadata": {},
       "output_type": "pyout",
       "prompt_number": 114,
       "text": [
        "{'Canuckian89',\n",
        " 'Floydspinky71',\n",
        " 'Good Olfactory',\n",
        " 'The Mystery Man',\n",
        " 'Thismightbezach',\n",
        " 'VIAFbot',\n",
        " 'Waacstats'}"
       ]
      }
     ],
     "prompt_number": 114
    },
    {
     "cell_type": "code",
     "collapsed": false,
     "input": [
      "import networkx as nx\n",
      "G=nx.Graph()\n",
      "temp = []\n",
      "i = 0\n",
      "while i < len(full.keys()):\n",
      "    j = i + 1\n",
      "    while j < len(full.keys()):\n",
      "        first = full[full.keys()[i]][1]\n",
      "        second = full[full.keys()[j]][1]\n",
      "        weight = len(set(first).intersection(set(second)))\n",
      "        if weight > 0:\n",
      "            temp.append((full.keys()[i], full.keys()[j], weight))\n",
      "        j = j + 1\n",
      "    i = i + 1\n",
      "    print i\n"
     ],
     "language": "python",
     "metadata": {},
     "outputs": [
      {
       "output_type": "stream",
       "stream": "stdout",
       "text": [
        "1\n",
        "2"
       ]
      },
      {
       "output_type": "stream",
       "stream": "stdout",
       "text": [
        "\n",
        "3"
       ]
      },
      {
       "output_type": "stream",
       "stream": "stdout",
       "text": [
        "\n",
        "4"
       ]
      },
      {
       "output_type": "stream",
       "stream": "stdout",
       "text": [
        "\n"
       ]
      },
      {
       "ename": "KeyboardInterrupt",
       "evalue": "",
       "output_type": "pyerr",
       "traceback": [
        "\u001b[0;31m---------------------------------------------------------------------------\u001b[0m\n\u001b[0;31mKeyboardInterrupt\u001b[0m                         Traceback (most recent call last)",
        "\u001b[0;32m<ipython-input-136-00fdf4a26e3b>\u001b[0m in \u001b[0;36m<module>\u001b[0;34m()\u001b[0m\n\u001b[1;32m      7\u001b[0m     \u001b[0;32mwhile\u001b[0m \u001b[0mj\u001b[0m \u001b[0;34m<\u001b[0m \u001b[0mlen\u001b[0m\u001b[0;34m(\u001b[0m\u001b[0mfull\u001b[0m\u001b[0;34m.\u001b[0m\u001b[0mkeys\u001b[0m\u001b[0;34m(\u001b[0m\u001b[0;34m)\u001b[0m\u001b[0;34m)\u001b[0m\u001b[0;34m:\u001b[0m\u001b[0;34m\u001b[0m\u001b[0m\n\u001b[1;32m      8\u001b[0m         \u001b[0mfirst\u001b[0m \u001b[0;34m=\u001b[0m \u001b[0mfull\u001b[0m\u001b[0;34m[\u001b[0m\u001b[0mfull\u001b[0m\u001b[0;34m.\u001b[0m\u001b[0mkeys\u001b[0m\u001b[0;34m(\u001b[0m\u001b[0;34m)\u001b[0m\u001b[0;34m[\u001b[0m\u001b[0mi\u001b[0m\u001b[0;34m]\u001b[0m\u001b[0;34m]\u001b[0m\u001b[0;34m[\u001b[0m\u001b[0;36m1\u001b[0m\u001b[0;34m]\u001b[0m\u001b[0;34m\u001b[0m\u001b[0m\n\u001b[0;32m----> 9\u001b[0;31m         \u001b[0msecond\u001b[0m \u001b[0;34m=\u001b[0m \u001b[0mfull\u001b[0m\u001b[0;34m[\u001b[0m\u001b[0mfull\u001b[0m\u001b[0;34m.\u001b[0m\u001b[0mkeys\u001b[0m\u001b[0;34m(\u001b[0m\u001b[0;34m)\u001b[0m\u001b[0;34m[\u001b[0m\u001b[0mj\u001b[0m\u001b[0;34m]\u001b[0m\u001b[0;34m]\u001b[0m\u001b[0;34m[\u001b[0m\u001b[0;36m1\u001b[0m\u001b[0;34m]\u001b[0m\u001b[0;34m\u001b[0m\u001b[0m\n\u001b[0m\u001b[1;32m     10\u001b[0m         \u001b[0mweight\u001b[0m \u001b[0;34m=\u001b[0m \u001b[0mlen\u001b[0m\u001b[0;34m(\u001b[0m\u001b[0mset\u001b[0m\u001b[0;34m(\u001b[0m\u001b[0mfirst\u001b[0m\u001b[0;34m)\u001b[0m\u001b[0;34m.\u001b[0m\u001b[0mintersection\u001b[0m\u001b[0;34m(\u001b[0m\u001b[0mset\u001b[0m\u001b[0;34m(\u001b[0m\u001b[0msecond\u001b[0m\u001b[0;34m)\u001b[0m\u001b[0;34m)\u001b[0m\u001b[0;34m)\u001b[0m\u001b[0;34m\u001b[0m\u001b[0m\n\u001b[1;32m     11\u001b[0m         \u001b[0;32mif\u001b[0m \u001b[0mweight\u001b[0m \u001b[0;34m>\u001b[0m \u001b[0;36m0\u001b[0m\u001b[0;34m:\u001b[0m\u001b[0;34m\u001b[0m\u001b[0m\n",
        "\u001b[0;31mKeyboardInterrupt\u001b[0m: "
       ]
      }
     ],
     "prompt_number": 136
    },
    {
     "cell_type": "code",
     "collapsed": false,
     "input": [
      "G.add_weighted_edges_from(temp)\n",
      "print len(G.nodes(data=True))\n",
      "#nx.write_graphml(G,'so.graphml')"
     ],
     "language": "python",
     "metadata": {},
     "outputs": []
    },
    {
     "cell_type": "code",
     "collapsed": false,
     "input": [
      "temp[:100]"
     ],
     "language": "python",
     "metadata": {},
     "outputs": [
      {
       "metadata": {},
       "output_type": "pyout",
       "prompt_number": 32,
       "text": [
        "[('Neurite', 'Anisocoria', 1),\n",
        " ('Neurite', 'Jaundice', 1),\n",
        " ('Neurite', 'Brian_Bingman', 1),\n",
        " ('Neurite', 'Greater_palatine_nerve', 1),\n",
        " ('Neurite', 'Gadolinium', 2),\n",
        " ('Neurite', 'Family_therapy', 4),\n",
        " ('Neurite', 'Institute_on_the_Constitution', 1),\n",
        " ('Neurite', 'William_B_Cooper__NC_politician_', 1),\n",
        " ('Neurite', 'Inner_membrane', 2),\n",
        " ('Neurite', 'Donald_Steinbeisser', 1),\n",
        " ('Neurite', 'Lee_H_Hamilton', 1),\n",
        " ('Neurite', 'Arbovirus', 1),\n",
        " ('Neurite', 'Mike_Rogers__Alabama_politician_', 1),\n",
        " ('Neurite', 'Wild_Solutions', 1),\n",
        " ('Neurite', 'Automatic_behavior', 1),\n",
        " ('Neurite', 'Benning_M_Bean', 1),\n",
        " ('Neurite', 'Sexual_script', 1),\n",
        " ('Neurite', 'Lewis_Billings', 1),\n",
        " ('Neurite', 'Two-Spirit', 3),\n",
        " ('Neurite', 'Ossicles', 2),\n",
        " ('Neurite', 'Charles_Coughlin', 2),\n",
        " ('Neurite', 'Jim_Suttle', 1),\n",
        " ('Neurite', 'Dry_line', 1),\n",
        " ('Neurite', 'Rudolph_A_Marcus', 1),\n",
        " ('Neurite', 'Fujita_scale', 1),\n",
        " ('Neurite', 'Inward-rectifier_potassium_ion_channel', 1),\n",
        " ('Neurite', 'Thomas_Burton_Hanly', 1),\n",
        " ('Neurite', 'Sandstone', 3),\n",
        " ('Neurite', 'John_Moses__American_politician_', 1),\n",
        " ('Neurite', 'Jennifer_Elkins', 1),\n",
        " ('Neurite', 'Luz_Robles', 1),\n",
        " ('Neurite', 'John_Sinrud', 1),\n",
        " ('Neurite', 'Apparent_wind', 1),\n",
        " ('Neurite', 'Hemocyte', 1),\n",
        " ('Neurite', 'Survival_of_the_fittest', 1),\n",
        " ('Neurite', 'Prenatal_care', 1),\n",
        " ('Neurite', 'Lacrimal_sac', 2),\n",
        " ('Neurite', 'Molly_Kelly', 1),\n",
        " ('Neurite', 'United_Nations_Decade_on_Biodiversity', 1),\n",
        " ('Neurite', 'Arthur_C_Watson', 1),\n",
        " ('Neurite', 'Weather_front', 2),\n",
        " ('Neurite', 'Attention', 1),\n",
        " ('Neurite', 'Lawrence_Gates', 1),\n",
        " ('Neurite', 'Alexander_Billmeyer', 1),\n",
        " ('Neurite', 'Nancy_Cassis', 1),\n",
        " ('Neurite', 'Nucleus_fastigius', 2),\n",
        " ('Neurite', 'Ben_Clayburgh', 1),\n",
        " ('Neurite', 'Encephalitis', 1),\n",
        " ('Neurite', 'Jay_Severin', 3),\n",
        " ('Neurite', 'Steve_Sydness', 1),\n",
        " ('Neurite', 'Soapstone', 1),\n",
        " ('Neurite', 'Stereotactic_injection', 2),\n",
        " ('Neurite', 'James_K_Polk', 3),\n",
        " ('Neurite', 'Winfield_Dunn', 1),\n",
        " ('Neurite', 'Basolateral_amygdala', 3),\n",
        " ('Neurite', 'Blastoma', 1),\n",
        " ('Neurite', 'Hip', 1),\n",
        " ('Neurite', 'Samuel_W_Black', 1),\n",
        " ('Neurite', 'Antitoxin', 1),\n",
        " ('Neurite', 'Catharsis', 2),\n",
        " ('Neurite', 'Mechanics', 3),\n",
        " ('Neurite', 'Rachel_Binah', 1),\n",
        " ('Neurite', 'Ejaculatory_duct', 1),\n",
        " ('Neurite', 'Tourmaline', 2),\n",
        " ('Neurite', 'Image_schema', 1),\n",
        " ('Neurite', 'Old_age', 3),\n",
        " ('Neurite', 'DDT_in_New_Zealand', 1),\n",
        " ('Neurite', 'Joe_Manchin', 2),\n",
        " ('Neurite', 'Spacequake', 2),\n",
        " ('Neurite', 'Rectus_sheath', 1),\n",
        " ('Neurite', 'Louis_Wade_Sullivan', 1),\n",
        " ('Neurite', 'James_A_Byrne', 1),\n",
        " ('Neurite', 'William_R_Laird,_III', 1),\n",
        " ('Neurite', 'Debra_Bowen', 1),\n",
        " ('Neurite', 'Nicole_LeFavour', 1),\n",
        " ('Neurite', 'Flucytosine', 1),\n",
        " ('Neurite', 'Capitate', 1),\n",
        " ('Neurite', 'Plasma_transferred_wire_arc_thermal_spraying', 1),\n",
        " ('Neurite', 'Martha_B_Alexander', 1),\n",
        " ('Neurite', 'Garet_Garrett', 1),\n",
        " ('Neurite', 'Auditory_radiations', 1),\n",
        " ('Neurite', 'William_A_Graham__agriculture_commissioner_', 1),\n",
        " ('Neurite', 'Climate_sensitivity', 1),\n",
        " ('Neurite', 'Metencephalon', 1),\n",
        " ('Neurite', 'Consecutive_case_series', 1),\n",
        " ('Neurite', 'Incus', 1),\n",
        " ('Neurite', 'Hybrid_plasmid', 1),\n",
        " ('Neurite', 'Angiomatosis', 1),\n",
        " ('Neurite', 'Mood__psychology_', 1),\n",
        " ('Neurite', 'Neck', 2),\n",
        " ('Neurite', 'James_E_Murray', 1),\n",
        " ('Neurite', 'Josiah_Willard_Gibbs', 1),\n",
        " ('Neurite', 'Pluvial_lake', 1),\n",
        " ('Neurite', 'International_Association_of_Geomagnetism_and_Aeronomy', 1),\n",
        " ('Neurite', 'Epithalamus', 1),\n",
        " ('Neurite', 'Dave_Pankonin', 1),\n",
        " ('Neurite', 'Radio_navigation', 1),\n",
        " ('Neurite', 'Calcitonin_gene-related_peptide', 1),\n",
        " ('Neurite', 'John_Mills_Houston', 1),\n",
        " ('Neurite', 'Franklin_Corwin', 1)]"
       ]
      }
     ],
     "prompt_number": 32
    },
    {
     "cell_type": "code",
     "collapsed": false,
     "input": [
      "set(full['Neurite'][1]).intersection(set(full['Gadolinium'][1]))"
     ],
     "language": "python",
     "metadata": {},
     "outputs": [
      {
       "metadata": {},
       "output_type": "pyout",
       "prompt_number": 144,
       "text": [
        "{'Sun Creator', 'Wavelength'}"
       ]
      }
     ],
     "prompt_number": 144
    },
    {
     "cell_type": "code",
     "collapsed": false,
     "input": [
      "full['Anisocoria'][1]"
     ],
     "language": "python",
     "metadata": {},
     "outputs": [
      {
       "metadata": {},
       "output_type": "pyout",
       "prompt_number": 139,
       "text": [
        "['Wai Hong',\n",
        " 'Dukandricka',\n",
        " 'Chris the speller',\n",
        " 'Vertium',\n",
        " 'Sbmehta',\n",
        " 'Rytyho usa',\n",
        " 'Trappist the monk',\n",
        " 'Kaleid7',\n",
        " 'Scwlong',\n",
        " 'Eleassar',\n",
        " 'Bastilleday uky',\n",
        " 'Jesse V.',\n",
        " 'Deflective',\n",
        " 'Scottalter',\n",
        " 'Pumpkinpeejays',\n",
        " 'CultureDrone',\n",
        " 'Jmcclare',\n",
        " 'Mild Bill Hiccup',\n",
        " 'GeneralBelly',\n",
        " 'AED',\n",
        " 'Hyacinth',\n",
        " 'Docrings',\n",
        " 'TheFruitarian',\n",
        " 'Radomil',\n",
        " 'SimonP',\n",
        " 'Kiatdd',\n",
        " 'Aghorler',\n",
        " 'Nina',\n",
        " 'Rjwilmsi',\n",
        " 'Room429',\n",
        " 'Mdann52',\n",
        " 'Vltavit',\n",
        " 'C6541',\n",
        " 'Fdskjs',\n",
        " 'Fredrik',\n",
        " 'Mimosa.cb',\n",
        " 'Lezduur',\n",
        " 'Fred.Pendleton',\n",
        " 'Benuski',\n",
        " 'Goddord',\n",
        " 'Allie1401',\n",
        " 'Curb Chain',\n",
        " 'Stamptrader',\n",
        " 'Jfurr1981',\n",
        " 'Dr Bilal Alshareef',\n",
        " 'Headbomb',\n",
        " 'Cwtyler',\n",
        " 'DASHBotAV',\n",
        " 'Sanjpatel1',\n",
        " 'Zztzed',\n",
        " 'Graham87',\n",
        " 'William Avery',\n",
        " 'Freikorp',\n",
        " 'Anthonyhcole',\n",
        " 'Angelito7',\n",
        " 'Arcadian',\n",
        " 'Nihiltres',\n",
        " 'The Professorr']"
       ]
      }
     ],
     "prompt_number": 139
    },
    {
     "cell_type": "code",
     "collapsed": false,
     "input": [
      "nx.write_graphml(G,'so.graphml')"
     ],
     "language": "python",
     "metadata": {},
     "outputs": [],
     "prompt_number": 15
    },
    {
     "cell_type": "code",
     "collapsed": false,
     "input": [],
     "language": "python",
     "metadata": {},
     "outputs": []
    }
   ],
   "metadata": {}
  }
 ]
}