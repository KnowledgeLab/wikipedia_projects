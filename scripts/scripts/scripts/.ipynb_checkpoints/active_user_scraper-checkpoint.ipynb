{
 "metadata": {
  "name": "",
  "signature": "sha256:49fbeab8a933882a4f7bd81081b745bb0d8055d1acb430800f7c274a157e5190"
 },
 "nbformat": 3,
 "nbformat_minor": 0,
 "worksheets": [
  {
   "cells": [
    {
     "cell_type": "code",
     "collapsed": false,
     "input": [
      "from bs4 import BeautifulSoup\n",
      "import urllib\n",
      "import numpy as np\n",
      "import pandas as pd"
     ],
     "language": "python",
     "metadata": {},
     "outputs": [],
     "prompt_number": 1
    },
    {
     "cell_type": "code",
     "collapsed": false,
     "input": [
      "def get_users(url):\n",
      "    base_url = 'https://en.wikipedia.org'\n",
      "    count = 1\n",
      "    ret = []\n",
      "    cur_page = urllib.urlopen(url)\n",
      "    cur_page_soup = BeautifulSoup(cur_page)\n",
      "    revisions = cur_page_soup.body.find_all(\"table\")                                              \n",
      "    rows = revisions[2].find_all(\"tr\")\n",
      "    for row in rows:\n",
      "        cells = row.find_all(\"td\")\n",
      "        if len(cells) > 0:\n",
      "            ret.append(cells[1].text)\n",
      "    return ret"
     ],
     "language": "python",
     "metadata": {},
     "outputs": [],
     "prompt_number": 22
    },
    {
     "cell_type": "code",
     "collapsed": false,
     "input": [
      "users = get_users('https://en.wikipedia.org/wiki/Wikipedia:List_of_Wikipedians_by_number_of_edits')"
     ],
     "language": "python",
     "metadata": {},
     "outputs": [],
     "prompt_number": 31
    },
    {
     "cell_type": "code",
     "collapsed": false,
     "input": [
      "users = [x for x in users if x != '[Placeholder]']"
     ],
     "language": "python",
     "metadata": {},
     "outputs": [],
     "prompt_number": 35
    },
    {
     "cell_type": "code",
     "collapsed": false,
     "input": [
      "users = users[:100]"
     ],
     "language": "python",
     "metadata": {},
     "outputs": [],
     "prompt_number": 37
    },
    {
     "cell_type": "code",
     "collapsed": false,
     "input": [
      "import csv\n",
      "\n",
      "myfile = open('active_users.txt', 'wb')\n",
      "wr = csv.writer(myfile, quoting=csv.QUOTE_ALL)\n",
      "wr.writerow(users)\n",
      "myfile.close()"
     ],
     "language": "python",
     "metadata": {},
     "outputs": [],
     "prompt_number": 39
    },
    {
     "cell_type": "code",
     "collapsed": false,
     "input": [],
     "language": "python",
     "metadata": {},
     "outputs": []
    }
   ],
   "metadata": {}
  }
 ]
}