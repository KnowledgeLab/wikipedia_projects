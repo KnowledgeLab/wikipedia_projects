{
 "metadata": {
  "name": "",
  "signature": "sha256:c0a4859287d47be0c11e7194fc56cc441d57666b098766f050c62b4c2d1a28e8"
 },
 "nbformat": 3,
 "nbformat_minor": 0,
 "worksheets": [
  {
   "cells": [
    {
     "cell_type": "code",
     "collapsed": false,
     "input": [
      "import urllib\n",
      "import xlrd\n",
      "import csv\n",
      "import xml.etree.ElementTree as ET\n",
      "from   unidecode import *\n",
      "import xlwt\n",
      "import sys\n",
      "import re\n",
      "import random\n",
      "import networkx as nx\n",
      "from bs4 import BeautifulSoup"
     ],
     "language": "python",
     "metadata": {},
     "outputs": [],
     "prompt_number": 12
    },
    {
     "cell_type": "code",
     "collapsed": false,
     "input": [
      "def load_csv(filename):\n",
      "    soups = {}\n",
      "    fil = open(filename, 'rb')\n",
      "    reader = csv.reader(fil, delimiter=',')\n",
      "    for row in reader:\n",
      "        soups[row[0]] = row[1:]\n",
      "    return soups\n",
      "\n",
      "def load_bots(filename):\n",
      "    ret = []\n",
      "    fil = open(filename,'rb')\n",
      "    for line in fil.readlines():\n",
      "        ret.append(line[5:].strip())\n",
      "    return ret\n",
      "\n",
      "def load_active(filename):\n",
      "    fil = open(filename, 'rb')\n",
      "    reader = csv.reader(fil, delimiter=',')\n",
      "    for row in reader:\n",
      "        return row"
     ],
     "language": "python",
     "metadata": {},
     "outputs": [],
     "prompt_number": 6
    },
    {
     "cell_type": "code",
     "collapsed": false,
     "input": [
      "lib = load_csv(\"../processed_data/liberal_wo_editors.txt\")\n",
      "cons = load_csv(\"../processed_data/conservative_editors_wo_m.txt\")"
     ],
     "language": "python",
     "metadata": {},
     "outputs": [],
     "prompt_number": 7
    },
    {
     "cell_type": "code",
     "collapsed": false,
     "input": [
      "active = load_active('../active_users.txt')"
     ],
     "language": "python",
     "metadata": {},
     "outputs": [],
     "prompt_number": 8
    },
    {
     "cell_type": "code",
     "collapsed": false,
     "input": [
      "active[3]"
     ],
     "language": "python",
     "metadata": {},
     "outputs": [
      {
       "metadata": {},
       "output_type": "pyout",
       "prompt_number": 51,
       "text": [
        "'Waacstats'"
       ]
      }
     ],
     "prompt_number": 51
    },
    {
     "cell_type": "code",
     "collapsed": false,
     "input": [
      "len(lib['nbarnes/knowlab_real/wikipedia_projects/science_articles/Proton_history'])"
     ],
     "language": "python",
     "metadata": {},
     "outputs": [
      {
       "metadata": {},
       "output_type": "pyout",
       "prompt_number": 8,
       "text": [
        "1197"
       ]
      }
     ],
     "prompt_number": 8
    },
    {
     "cell_type": "code",
     "collapsed": false,
     "input": [
      "len(lib_small['nbarnes/knowlab_real/wikipedia_projects/science_articles/Proton_history'])"
     ],
     "language": "python",
     "metadata": {},
     "outputs": [
      {
       "metadata": {},
       "output_type": "pyout",
       "prompt_number": 9,
       "text": [
        "449"
       ]
      }
     ],
     "prompt_number": 9
    },
    {
     "cell_type": "code",
     "collapsed": false,
     "input": [
      "str(app_cat[app_cat.keys()[0]])"
     ],
     "language": "python",
     "metadata": {},
     "outputs": [
      {
       "metadata": {},
       "output_type": "pyout",
       "prompt_number": 22,
       "text": [
        "\"['World economy', 'Economics', 'International relations', 'Applied_sciences', 'International economics']\""
       ]
      }
     ],
     "prompt_number": 22
    },
    {
     "cell_type": "code",
     "collapsed": false,
     "input": [
      "app_cat['/wiki/'+app.keys()[0][60:-8]]"
     ],
     "language": "python",
     "metadata": {},
     "outputs": [
      {
       "metadata": {},
       "output_type": "pyout",
       "prompt_number": 37,
       "text": [
        "['Technical universities and colleges',\n",
        " 'Universities and colleges by type',\n",
        " 'Career and technical education',\n",
        " 'Applied_sciences',\n",
        " 'Training organizations',\n",
        " 'Technology']"
       ]
      }
     ],
     "prompt_number": 37
    },
    {
     "cell_type": "code",
     "collapsed": false,
     "input": [
      "app, beh, cog, eng, form, nat, phy"
     ],
     "language": "python",
     "metadata": {},
     "outputs": [
      {
       "metadata": {},
       "output_type": "pyout",
       "prompt_number": 15,
       "text": [
        "'nbarnes/knowlab_real/wikipedia_projects/science_by_category/National_Polytechnic_School_history'"
       ]
      }
     ],
     "prompt_number": 15
    },
    {
     "cell_type": "code",
     "collapsed": false,
     "input": [
      "app = load_csv(\"../processed_data/applied_science_editors.txt\")\n",
      "beh = load_csv(\"../processed_data/behavioral_science_editors.txt\")\n",
      "cog = load_csv(\"../processed_data/cognitive_science_editors.txt\")\n",
      "eng = load_csv(\"../processed_data/engineering_science_editors.txt\")\n",
      "form = load_csv(\"../processed_data/formal_science_editors.txt\")\n",
      "nat = load_csv(\"../processed_data/natural_science_editors.txt\")\n",
      "phy = load_csv(\"../processed_data/physical_science_editors.txt\")"
     ],
     "language": "python",
     "metadata": {},
     "outputs": [],
     "prompt_number": 20
    },
    {
     "cell_type": "code",
     "collapsed": false,
     "input": [
      "app_cat = load_csv(\"../processed_data/science_category_labelled/applied_science_category_labelled.txt\")\n",
      "beh_cat = load_csv(\"../processed_data/science_category_labelled/behavioral_science_category_labelled.txt\")\n",
      "cog_cat = load_csv(\"../processed_data/science_category_labelled/cognitive_science_category_labelled.txt\")\n",
      "eng_cat = load_csv(\"../processed_data/science_category_labelled/engineering_science_category_labelled.txt\")\n",
      "form_cat = load_csv(\"../processed_data/science_category_labelled/formal_science_category_labelled.txt\")\n",
      "nat_cat = load_csv(\"../processed_data/science_category_labelled/natural_science_category_labelled.txt\")\n",
      "phy_cat = load_csv(\"../processed_data/science_category_labelled/physical_science_category_labelled.txt\")"
     ],
     "language": "python",
     "metadata": {},
     "outputs": [],
     "prompt_number": 34
    },
    {
     "cell_type": "code",
     "collapsed": false,
     "input": [
      "bots = load_bots('../all_bots.txt')"
     ],
     "language": "python",
     "metadata": {},
     "outputs": [],
     "prompt_number": 9
    },
    {
     "cell_type": "code",
     "collapsed": false,
     "input": [
      "form_cat['/wiki/Logarithmic_units']"
     ],
     "language": "python",
     "metadata": {},
     "outputs": [
      {
       "metadata": {},
       "output_type": "pyout",
       "prompt_number": 56,
       "text": [
        "['Abstraction',\n",
        " 'Formal sciences',\n",
        " 'Formal_sciences',\n",
        " 'Mathematics',\n",
        " 'Main topic classifications',\n",
        " 'Structure']"
       ]
      }
     ],
     "prompt_number": 56
    },
    {
     "cell_type": "code",
     "collapsed": false,
     "input": [
      "form.keys()[400]"
     ],
     "language": "python",
     "metadata": {},
     "outputs": [
      {
       "metadata": {},
       "output_type": "pyout",
       "prompt_number": 53,
       "text": [
        "'nbarnes/knowlab_real/wikipedia_projects/science_by_category/Grouped_data_history'"
       ]
      }
     ],
     "prompt_number": 53
    },
    {
     "cell_type": "code",
     "collapsed": false,
     "input": [
      "def strip_bots(group_dict):\n",
      "    total = 0\n",
      "    b = 0\n",
      "    for key in group_dict.keys():\n",
      "        for editor in group_dict[key]:\n",
      "            total = total + 1\n",
      "            if editor in bots:\n",
      "                b = b + 1\n",
      "                group_dict[key].remove(editor)\n",
      "    print float(b)/total\n",
      "    return group_dict\n",
      "\n",
      "def strip_ips(group_dict):\n",
      "    total = 0\n",
      "    b = 0\n",
      "    for key in group_dict.keys():\n",
      "        for editor in group_dict[key]:\n",
      "            total = total + 1\n",
      "            aa=re.match(r\"^\\d{1,3}\\.\\d{1,3}\\.\\d{1,3}\\.\\d{1,3}$\",editor)\n",
      "            if aa or (editor.count(':') >= 5) or (editor[-4:] == '.xxx'):\n",
      "                b = b + 1\n",
      "                group_dict[key].remove(editor)\n",
      "    print float(b)/total\n",
      "    return group_dict\n",
      "\n",
      "def strip_active(group_dict):\n",
      "    total = 0\n",
      "    b = 0\n",
      "    for key in group_dict.keys():\n",
      "        for editor in group_dict[key]:\n",
      "            total = total + 1\n",
      "            if editor in active:\n",
      "                b = b + 1\n",
      "                group_dict[key].remove(editor)\n",
      "    print float(b)/total\n",
      "    return group_dict  "
     ],
     "language": "python",
     "metadata": {},
     "outputs": [],
     "prompt_number": 10
    },
    {
     "cell_type": "code",
     "collapsed": false,
     "input": [
      "cons = strip_active(cons)\n",
      "cons = strip_active(cons)\n",
      "cons = strip_active(cons)\n",
      "cons = strip_active(cons)\n",
      "\n",
      "science = strip_active(science)\n",
      "science = strip_active(science)\n",
      "science = strip_active(science)\n",
      "science = strip_active(science)"
     ],
     "language": "python",
     "metadata": {},
     "outputs": [
      {
       "output_type": "stream",
       "stream": "stdout",
       "text": [
        "0.0544158782673\n",
        "0.00624159916001"
       ]
      },
      {
       "output_type": "stream",
       "stream": "stdout",
       "text": [
        "\n",
        "0.000147779458407"
       ]
      },
      {
       "output_type": "stream",
       "stream": "stdout",
       "text": [
        "\n",
        "0.0"
       ]
      },
      {
       "output_type": "stream",
       "stream": "stdout",
       "text": [
        "\n",
        "0.0228164690765"
       ]
      },
      {
       "output_type": "stream",
       "stream": "stdout",
       "text": [
        "\n",
        "0.000785245772765"
       ]
      },
      {
       "output_type": "stream",
       "stream": "stdout",
       "text": [
        "\n",
        "2.06879817898e-06"
       ]
      },
      {
       "output_type": "stream",
       "stream": "stdout",
       "text": [
        "\n",
        "0.0"
       ]
      },
      {
       "output_type": "stream",
       "stream": "stdout",
       "text": [
        "\n"
       ]
      }
     ],
     "prompt_number": 59
    },
    {
     "cell_type": "code",
     "collapsed": false,
     "input": [
      "for dic in [lib, cons]:\n",
      "    dic = strip_bots(dic)\n",
      "    dic = strip_bots(dic)\n",
      "    dic = strip_bots(dic)\n",
      "    dic = strip_bots(dic)"
     ],
     "language": "python",
     "metadata": {},
     "outputs": [
      {
       "output_type": "stream",
       "stream": "stdout",
       "text": [
        "0.0577229357001\n",
        "0.00345754758227"
       ]
      },
      {
       "output_type": "stream",
       "stream": "stdout",
       "text": [
        "\n",
        "7.28921414982e-06"
       ]
      },
      {
       "output_type": "stream",
       "stream": "stdout",
       "text": [
        "\n",
        "0.0"
       ]
      },
      {
       "output_type": "stream",
       "stream": "stdout",
       "text": [
        "\n",
        "0.0472146019502"
       ]
      },
      {
       "output_type": "stream",
       "stream": "stdout",
       "text": [
        "\n",
        "0.00253282021889"
       ]
      },
      {
       "output_type": "stream",
       "stream": "stdout",
       "text": [
        "\n",
        "2.72979406434e-06"
       ]
      },
      {
       "output_type": "stream",
       "stream": "stdout",
       "text": [
        "\n",
        "0.0"
       ]
      },
      {
       "output_type": "stream",
       "stream": "stdout",
       "text": [
        "\n"
       ]
      }
     ],
     "prompt_number": 11
    },
    {
     "cell_type": "code",
     "collapsed": false,
     "input": [
      "for dic in [app, beh, cog, eng, form, nat, phy]:\n",
      "    dic = strip_bots(dic)\n",
      "    dic = strip_bots(dic)\n",
      "    dic = strip_bots(dic)\n",
      "    dic = strip_bots(dic)"
     ],
     "language": "python",
     "metadata": {},
     "outputs": [
      {
       "output_type": "stream",
       "stream": "stdout",
       "text": [
        "0.0426850477078\n",
        "0.00274611459148"
       ]
      },
      {
       "output_type": "stream",
       "stream": "stdout",
       "text": [
        "\n",
        "1.74263928529e-05"
       ]
      },
      {
       "output_type": "stream",
       "stream": "stdout",
       "text": [
        "\n",
        "0.0"
       ]
      },
      {
       "output_type": "stream",
       "stream": "stdout",
       "text": [
        "\n",
        "0.0378425149028"
       ]
      },
      {
       "output_type": "stream",
       "stream": "stdout",
       "text": [
        "\n",
        "0.00211649488409"
       ]
      },
      {
       "output_type": "stream",
       "stream": "stdout",
       "text": [
        "\n",
        "1.25257299369e-05"
       ]
      },
      {
       "output_type": "stream",
       "stream": "stdout",
       "text": [
        "\n",
        "0.0"
       ]
      },
      {
       "output_type": "stream",
       "stream": "stdout",
       "text": [
        "\n",
        "0.0420700693995"
       ]
      },
      {
       "output_type": "stream",
       "stream": "stdout",
       "text": [
        "\n",
        "0.00238960307559"
       ]
      },
      {
       "output_type": "stream",
       "stream": "stdout",
       "text": [
        "\n",
        "7.82348649764e-06"
       ]
      },
      {
       "output_type": "stream",
       "stream": "stdout",
       "text": [
        "\n",
        "0.0"
       ]
      },
      {
       "output_type": "stream",
       "stream": "stdout",
       "text": [
        "\n",
        "0.0410596383432"
       ]
      },
      {
       "output_type": "stream",
       "stream": "stdout",
       "text": [
        "\n",
        "0.00242135119335"
       ]
      },
      {
       "output_type": "stream",
       "stream": "stdout",
       "text": [
        "\n",
        "1.08272174592e-05"
       ]
      },
      {
       "output_type": "stream",
       "stream": "stdout",
       "text": [
        "\n",
        "0.0"
       ]
      },
      {
       "output_type": "stream",
       "stream": "stdout",
       "text": [
        "\n",
        "0.0448183928428"
       ]
      },
      {
       "output_type": "stream",
       "stream": "stdout",
       "text": [
        "\n",
        "0.00305348706986"
       ]
      },
      {
       "output_type": "stream",
       "stream": "stdout",
       "text": [
        "\n",
        "9.28263775434e-06"
       ]
      },
      {
       "output_type": "stream",
       "stream": "stdout",
       "text": [
        "\n",
        "0.0"
       ]
      },
      {
       "output_type": "stream",
       "stream": "stdout",
       "text": [
        "\n",
        "0.0560375113919"
       ]
      },
      {
       "output_type": "stream",
       "stream": "stdout",
       "text": [
        "\n",
        "0.00497714718336"
       ]
      },
      {
       "output_type": "stream",
       "stream": "stdout",
       "text": [
        "\n",
        "7.01139351446e-06"
       ]
      },
      {
       "output_type": "stream",
       "stream": "stdout",
       "text": [
        "\n",
        "0.0"
       ]
      },
      {
       "output_type": "stream",
       "stream": "stdout",
       "text": [
        "\n",
        "0.0533146359058"
       ]
      },
      {
       "output_type": "stream",
       "stream": "stdout",
       "text": [
        "\n",
        "0.004673468141"
       ]
      },
      {
       "output_type": "stream",
       "stream": "stdout",
       "text": [
        "\n",
        "2.37619998099e-05"
       ]
      },
      {
       "output_type": "stream",
       "stream": "stdout",
       "text": [
        "\n",
        "0.0"
       ]
      },
      {
       "output_type": "stream",
       "stream": "stdout",
       "text": [
        "\n"
       ]
      }
     ],
     "prompt_number": 17
    },
    {
     "cell_type": "code",
     "collapsed": false,
     "input": [
      "for dic in [lib, cons]:\n",
      "    dic = strip_ips(dic)\n",
      "    dic = strip_ips(dic)\n",
      "    dic = strip_ips(dic)\n",
      "    dic = strip_ips(dic)\n",
      "    dic = strip_ips(dic)\n",
      "    dic = strip_ips(dic)"
     ],
     "language": "python",
     "metadata": {},
     "outputs": [
      {
       "output_type": "stream",
       "stream": "stdout",
       "text": [
        "0.362074759335\n",
        "0.141340494117"
       ]
      },
      {
       "output_type": "stream",
       "stream": "stdout",
       "text": [
        "\n",
        "0.0282378067995"
       ]
      },
      {
       "output_type": "stream",
       "stream": "stdout",
       "text": [
        "\n",
        "0.00169556930201"
       ]
      },
      {
       "output_type": "stream",
       "stream": "stdout",
       "text": [
        "\n",
        "5.84689325327e-06"
       ]
      },
      {
       "output_type": "stream",
       "stream": "stdout",
       "text": [
        "\n",
        "0.0"
       ]
      },
      {
       "output_type": "stream",
       "stream": "stdout",
       "text": [
        "\n",
        "0.375920806007"
       ]
      },
      {
       "output_type": "stream",
       "stream": "stdout",
       "text": [
        "\n",
        "0.15195141154"
       ]
      },
      {
       "output_type": "stream",
       "stream": "stdout",
       "text": [
        "\n",
        "0.0307126843342"
       ]
      },
      {
       "output_type": "stream",
       "stream": "stdout",
       "text": [
        "\n",
        "0.00170494972412"
       ]
      },
      {
       "output_type": "stream",
       "stream": "stdout",
       "text": [
        "\n",
        "4.47503378651e-06"
       ]
      },
      {
       "output_type": "stream",
       "stream": "stdout",
       "text": [
        "\n",
        "0.0"
       ]
      },
      {
       "output_type": "stream",
       "stream": "stdout",
       "text": [
        "\n"
       ]
      }
     ],
     "prompt_number": 12
    },
    {
     "cell_type": "code",
     "collapsed": false,
     "input": [
      "for dic in [app, beh, cog, eng, form, nat, phy]:\n",
      "    dic = strip_ips(dic)\n",
      "    dic = strip_ips(dic)\n",
      "    dic = strip_ips(dic)\n",
      "    dic = strip_ips(dic)\n",
      "    dic = strip_ips(dic)\n",
      "    dic = strip_ips(dic)"
     ],
     "language": "python",
     "metadata": {},
     "outputs": [
      {
       "output_type": "stream",
       "stream": "stdout",
       "text": [
        "0.427832352185\n",
        "0.188357614981"
       ]
      },
      {
       "output_type": "stream",
       "stream": "stdout",
       "text": [
        "\n",
        "0.0426364374583"
       ]
      },
      {
       "output_type": "stream",
       "stream": "stdout",
       "text": [
        "\n",
        "0.00303614599003"
       ]
      },
      {
       "output_type": "stream",
       "stream": "stdout",
       "text": [
        "\n",
        "4.30813133942e-05"
       ]
      },
      {
       "output_type": "stream",
       "stream": "stdout",
       "text": [
        "\n",
        "1.72326144461e-06"
       ]
      },
      {
       "output_type": "stream",
       "stream": "stdout",
       "text": [
        "\n",
        "0.443834662311"
       ]
      },
      {
       "output_type": "stream",
       "stream": "stdout",
       "text": [
        "\n",
        "0.200616413084"
       ]
      },
      {
       "output_type": "stream",
       "stream": "stdout",
       "text": [
        "\n",
        "0.0480814527771"
       ]
      },
      {
       "output_type": "stream",
       "stream": "stdout",
       "text": [
        "\n",
        "0.00319547295288"
       ]
      },
      {
       "output_type": "stream",
       "stream": "stdout",
       "text": [
        "\n",
        "3.05089658223e-05"
       ]
      },
      {
       "output_type": "stream",
       "stream": "stdout",
       "text": [
        "\n",
        "0.0"
       ]
      },
      {
       "output_type": "stream",
       "stream": "stdout",
       "text": [
        "\n",
        "0.42732914081"
       ]
      },
      {
       "output_type": "stream",
       "stream": "stdout",
       "text": [
        "\n",
        "0.188436695934"
       ]
      },
      {
       "output_type": "stream",
       "stream": "stdout",
       "text": [
        "\n",
        "0.0425458894493"
       ]
      },
      {
       "output_type": "stream",
       "stream": "stdout",
       "text": [
        "\n",
        "0.00295728291804"
       ]
      },
      {
       "output_type": "stream",
       "stream": "stdout",
       "text": [
        "\n",
        "2.78348004593e-05"
       ]
      },
      {
       "output_type": "stream",
       "stream": "stdout",
       "text": [
        "\n",
        "0.0"
       ]
      },
      {
       "output_type": "stream",
       "stream": "stdout",
       "text": [
        "\n",
        "0.433189921046"
       ]
      },
      {
       "output_type": "stream",
       "stream": "stdout",
       "text": [
        "\n",
        "0.19336970568"
       ]
      },
      {
       "output_type": "stream",
       "stream": "stdout",
       "text": [
        "\n",
        "0.0448964810342"
       ]
      },
      {
       "output_type": "stream",
       "stream": "stdout",
       "text": [
        "\n",
        "0.00355252476051"
       ]
      },
      {
       "output_type": "stream",
       "stream": "stdout",
       "text": [
        "\n",
        "7.14489854244e-05"
       ]
      },
      {
       "output_type": "stream",
       "stream": "stdout",
       "text": [
        "\n",
        "0.0"
       ]
      },
      {
       "output_type": "stream",
       "stream": "stdout",
       "text": [
        "\n",
        "0.414809370774"
       ]
      },
      {
       "output_type": "stream",
       "stream": "stdout",
       "text": [
        "\n",
        "0.176903152051"
       ]
      },
      {
       "output_type": "stream",
       "stream": "stdout",
       "text": [
        "\n",
        "0.0382853648856"
       ]
      },
      {
       "output_type": "stream",
       "stream": "stdout",
       "text": [
        "\n",
        "0.00250741193119"
       ]
      },
      {
       "output_type": "stream",
       "stream": "stdout",
       "text": [
        "\n",
        "3.22863584754e-05"
       ]
      },
      {
       "output_type": "stream",
       "stream": "stdout",
       "text": [
        "\n",
        "0.0"
       ]
      },
      {
       "output_type": "stream",
       "stream": "stdout",
       "text": [
        "\n",
        "0.415032389742"
       ]
      },
      {
       "output_type": "stream",
       "stream": "stdout",
       "text": [
        "\n",
        "0.180507274366"
       ]
      },
      {
       "output_type": "stream",
       "stream": "stdout",
       "text": [
        "\n",
        "0.0402995284748"
       ]
      },
      {
       "output_type": "stream",
       "stream": "stdout",
       "text": [
        "\n",
        "0.00292989101786"
       ]
      },
      {
       "output_type": "stream",
       "stream": "stdout",
       "text": [
        "\n",
        "4.90382375657e-05"
       ]
      },
      {
       "output_type": "stream",
       "stream": "stdout",
       "text": [
        "\n",
        "1.22598599924e-05"
       ]
      },
      {
       "output_type": "stream",
       "stream": "stdout",
       "text": [
        "\n",
        "0.416270343905"
       ]
      },
      {
       "output_type": "stream",
       "stream": "stdout",
       "text": [
        "\n",
        "0.179926970051"
       ]
      },
      {
       "output_type": "stream",
       "stream": "stdout",
       "text": [
        "\n",
        "0.0399680681213"
       ]
      },
      {
       "output_type": "stream",
       "stream": "stdout",
       "text": [
        "\n",
        "0.00287197745142"
       ]
      },
      {
       "output_type": "stream",
       "stream": "stdout",
       "text": [
        "\n",
        "3.56047164381e-05"
       ]
      },
      {
       "output_type": "stream",
       "stream": "stdout",
       "text": [
        "\n",
        "5.93418983473e-06"
       ]
      },
      {
       "output_type": "stream",
       "stream": "stdout",
       "text": [
        "\n"
       ]
      }
     ],
     "prompt_number": 18
    },
    {
     "cell_type": "code",
     "collapsed": false,
     "input": [
      "def strip_smackbot(group_dict):\n",
      "    total = 0\n",
      "    b = 0\n",
      "    for key in group_dict.keys():\n",
      "        for editor in group_dict[key]:\n",
      "            total = total + 1\n",
      "            if editor == 'SmackBot':\n",
      "                b = b + 1\n",
      "                group_dict[key].remove(editor)\n",
      "            elif editor == '':\n",
      "                b = b + 1\n",
      "                group_dict[key].remove(editor)\n",
      "    print float(b)/total\n",
      "    return group_dict"
     ],
     "language": "python",
     "metadata": {},
     "outputs": [],
     "prompt_number": 13
    },
    {
     "cell_type": "code",
     "collapsed": false,
     "input": [
      "for dic in [lib, cons]:\n",
      "    dic = strip_smackbot(dic)\n",
      "    dic = strip_smackbot(dic)"
     ],
     "language": "python",
     "metadata": {},
     "outputs": [
      {
       "output_type": "stream",
       "stream": "stdout",
       "text": [
        "0.00491155095734\n",
        "0.0"
       ]
      },
      {
       "output_type": "stream",
       "stream": "stdout",
       "text": [
        "\n",
        "0.00471596324336"
       ]
      },
      {
       "output_type": "stream",
       "stream": "stdout",
       "text": [
        "\n",
        "0.0"
       ]
      },
      {
       "output_type": "stream",
       "stream": "stdout",
       "text": [
        "\n"
       ]
      }
     ],
     "prompt_number": 14
    },
    {
     "cell_type": "code",
     "collapsed": false,
     "input": [
      "for dic in [app, beh, cog, eng, form, nat, phy]:\n",
      "    dic = strip_smackbot(dic)\n",
      "    dic = strip_smackbot(dic)"
     ],
     "language": "python",
     "metadata": {},
     "outputs": [
      {
       "output_type": "stream",
       "stream": "stdout",
       "text": [
        "0.00554007022966\n",
        "0.0"
       ]
      },
      {
       "output_type": "stream",
       "stream": "stdout",
       "text": [
        "\n",
        "0.00561384133996"
       ]
      },
      {
       "output_type": "stream",
       "stream": "stdout",
       "text": [
        "\n",
        "0.0\n",
        "0.00583958461625"
       ]
      },
      {
       "output_type": "stream",
       "stream": "stdout",
       "text": [
        "\n",
        "0.0"
       ]
      },
      {
       "output_type": "stream",
       "stream": "stdout",
       "text": [
        "\n",
        "0.00559948804681"
       ]
      },
      {
       "output_type": "stream",
       "stream": "stdout",
       "text": [
        "\n",
        "0.0"
       ]
      },
      {
       "output_type": "stream",
       "stream": "stdout",
       "text": [
        "\n",
        "0.00587646438137"
       ]
      },
      {
       "output_type": "stream",
       "stream": "stdout",
       "text": [
        "\n",
        "0.0"
       ]
      },
      {
       "output_type": "stream",
       "stream": "stdout",
       "text": [
        "\n",
        "0.00456840290605"
       ]
      },
      {
       "output_type": "stream",
       "stream": "stdout",
       "text": [
        "\n",
        "0.0\n",
        "0.00446364719905"
       ]
      },
      {
       "output_type": "stream",
       "stream": "stdout",
       "text": [
        "\n",
        "0.0\n"
       ]
      }
     ],
     "prompt_number": 19
    },
    {
     "cell_type": "code",
     "collapsed": false,
     "input": [
      "def make_net_dict():\n",
      "    ret = {}\n",
      "    count = 0\n",
      "    #for dic in [app, beh, cog, eng, form, nat, phy]:\n",
      "    for key in app.keys():\n",
      "        k = key[60:-8]\n",
      "        if '/wiki/'+ k in app_cat.keys():\n",
      "            cat = str(app_cat['/wiki/'+ k])\n",
      "            ret[k] = [cat, app[key]]\n",
      "        else:\n",
      "            count = count + 1\n",
      "    print count\n",
      "    for key in beh.keys():\n",
      "        k = key[60:-8]\n",
      "        if '/wiki/'+ k in beh_cat.keys():\n",
      "            cat = str(beh_cat['/wiki/'+ k])\n",
      "            ret[k] = [cat, beh[key]]\n",
      "        else:\n",
      "            count = count + 1\n",
      "    print count\n",
      "    for key in cog.keys():\n",
      "        k = key[60:-8]\n",
      "        if '/wiki/'+ k in cog_cat.keys():\n",
      "            cat = str(cog_cat['/wiki/'+ k])\n",
      "            ret[k] = [cat, cog[key]]\n",
      "        else:\n",
      "            count = count + 1\n",
      "    print count\n",
      "    for key in eng.keys():\n",
      "        k = key[60:-8]\n",
      "        if '/wiki/'+ k in eng_cat.keys():\n",
      "            cat = str(eng_cat['/wiki/'+ k])\n",
      "            ret[k] = [cat, eng[key]]\n",
      "        else:\n",
      "            count = count + 1\n",
      "    print count\n",
      "    for key in form.keys():\n",
      "        k = key[60:-8]\n",
      "        if '/wiki/'+ k in form_cat.keys():\n",
      "            cat = str(form_cat['/wiki/'+ k])\n",
      "            ret[k] = [cat, form[key]]\n",
      "        else:\n",
      "            count = count + 1\n",
      "    print count\n",
      "    for key in nat.keys():\n",
      "        k = key[60:-8]\n",
      "        if '/wiki/'+ k in nat_cat.keys():\n",
      "            cat = str(nat_cat['/wiki/'+ k])\n",
      "            ret[k] = [cat, nat[key]]\n",
      "        else:\n",
      "            count = count + 1\n",
      "    print count\n",
      "    for key in phy.keys():\n",
      "        k = key[60:-8]\n",
      "        if '/wiki/'+ k in phy_cat.keys():\n",
      "            cat = str(phy_cat['/wiki/'+ k])\n",
      "            ret[k] = [cat, phy[key]]\n",
      "        else:\n",
      "            count = count + 1\n",
      "    print count\n",
      "    return ret\n",
      "\n",
      "full = make_net_dict()\n",
      "len(full)"
     ],
     "language": "python",
     "metadata": {},
     "outputs": [
      {
       "output_type": "stream",
       "stream": "stdout",
       "text": [
        "4269\n",
        "4969"
       ]
      },
      {
       "output_type": "stream",
       "stream": "stdout",
       "text": [
        "\n",
        "7142"
       ]
      },
      {
       "output_type": "stream",
       "stream": "stdout",
       "text": [
        "\n",
        "10257"
       ]
      },
      {
       "output_type": "stream",
       "stream": "stdout",
       "text": [
        "\n",
        "12090"
       ]
      },
      {
       "output_type": "stream",
       "stream": "stdout",
       "text": [
        "\n",
        "12917"
       ]
      },
      {
       "output_type": "stream",
       "stream": "stdout",
       "text": [
        "\n",
        "14431"
       ]
      },
      {
       "output_type": "stream",
       "stream": "stdout",
       "text": [
        "\n"
       ]
      },
      {
       "metadata": {},
       "output_type": "pyout",
       "prompt_number": 54,
       "text": [
        "59097"
       ]
      }
     ],
     "prompt_number": 54
    },
    {
     "cell_type": "code",
     "collapsed": false,
     "input": [
      "lib.keys()[0][57:-8]"
     ],
     "language": "python",
     "metadata": {},
     "outputs": [
      {
       "metadata": {},
       "output_type": "pyout",
       "prompt_number": 84,
       "text": [
        "'Matt_Hansen__Nebraska_politician_'"
       ]
      }
     ],
     "prompt_number": 84
    },
    {
     "cell_type": "code",
     "collapsed": false,
     "input": [
      "def make_pol_net_dict():\n",
      "    ret = {}\n",
      "    for key in lib.keys():\n",
      "        k = key[57:-8]\n",
      "        ret[k] = ['liberal', lib[key]]\n",
      "    for key in cons.keys():\n",
      "        k = key[67:-8]\n",
      "        ret[k] = ['conservative', cons[key]]\n",
      "    return ret\n",
      "\n",
      "poli = make_pol_net_dict()    \n",
      "print len(poli)"
     ],
     "language": "python",
     "metadata": {},
     "outputs": [
      {
       "output_type": "stream",
       "stream": "stdout",
       "text": [
        "21129\n"
       ]
      }
     ],
     "prompt_number": 15
    },
    {
     "cell_type": "code",
     "collapsed": false,
     "input": [
      "out = open(\"../processed_data/final_science_editors.txt\", 'wb')\n",
      "wb = csv.writer(out)\n",
      "for key in full.keys():\n",
      "    wb.writerow([key, full[key][0]] + full[key][1])\n",
      "out.close()"
     ],
     "language": "python",
     "metadata": {},
     "outputs": [],
     "prompt_number": 88
    },
    {
     "cell_type": "code",
     "collapsed": false,
     "input": [
      "full[full.keys()[500]]"
     ],
     "language": "python",
     "metadata": {},
     "outputs": [
      {
       "metadata": {},
       "output_type": "pyout",
       "prompt_number": 92,
       "text": [
        "[\"['Network management', 'Computer network analysis', 'Analysis', 'Applied_sciences']\",\n",
        " ['Family Guy Guy',\n",
        "  'Miami33139',\n",
        "  'Adrignola',\n",
        "  'PardonTheComma',\n",
        "  'Terence legrange',\n",
        "  'Muzikmixer',\n",
        "  'DonYonce8912',\n",
        "  'NortyNort',\n",
        "  'Pcap',\n",
        "  'DeepCrimson~enwiki']]"
       ]
      }
     ],
     "prompt_number": 92
    },
    {
     "cell_type": "code",
     "collapsed": false,
     "input": [
      "def load_clean(filename):\n",
      "    soups = {}\n",
      "    fil = open(filename, 'rb')\n",
      "    reader = csv.reader(fil, delimiter=',')\n",
      "    for row in reader:\n",
      "        soups[row[0]] = [row[1], row[2:]]\n",
      "    return soups\n",
      "\n",
      "full = load_clean('../processed_data/final_science_editors.txt')"
     ],
     "language": "python",
     "metadata": {},
     "outputs": [],
     "prompt_number": 2
    },
    {
     "cell_type": "code",
     "collapsed": false,
     "input": [
      "poli = load_clean('../processed_data/final_political_editors.txt')\n",
      "len(poli.keys())"
     ],
     "language": "python",
     "metadata": {},
     "outputs": [
      {
       "metadata": {},
       "output_type": "pyout",
       "prompt_number": 60,
       "text": [
        "21129"
       ]
      }
     ],
     "prompt_number": 60
    },
    {
     "cell_type": "code",
     "collapsed": false,
     "input": [
      "def get_first_level_subcat(url):\n",
      "    count = 1\n",
      "    ret = []\n",
      "    cur_page = urllib.urlopen(url)\n",
      "    cur_page_soup = BeautifulSoup(cur_page)\n",
      "    revisions = cur_page_soup.body.find_all(id=\"mw-subcategories\")                                              \n",
      "    cats = revisions[0].find_all(\"a\")\n",
      "    ret = [x.text for x in cats]\n",
      "    return ret"
     ],
     "language": "python",
     "metadata": {},
     "outputs": [],
     "prompt_number": 16
    },
    {
     "cell_type": "code",
     "collapsed": false,
     "input": [
      "a = get_first_level_subcat(\"https://en.wikipedia.org/wiki/Category:Applied_sciences\")\n",
      "b = get_first_level_subcat(\"https://en.wikipedia.org/wiki/Category:Behavioural_sciences\")\n",
      "c = get_first_level_subcat(\"https://en.wikipedia.org/wiki/Category:Cognitive_science\")\n",
      "e = get_first_level_subcat(\"https://en.wikipedia.org/wiki/Category:Engineering_disciplines\")\n",
      "f = get_first_level_subcat(\"https://en.wikipedia.org/wiki/Category:Formal_sciences\")\n",
      "n = get_first_level_subcat(\"https://en.wikipedia.org/wiki/Category:Natural_sciences\")\n",
      "p = get_first_level_subcat(\"https://en.wikipedia.org/wiki/Category:Physical_sciences\")"
     ],
     "language": "python",
     "metadata": {},
     "outputs": [],
     "prompt_number": 18
    },
    {
     "cell_type": "code",
     "collapsed": false,
     "input": [
      "import ast\n",
      "cat_list = []\n",
      "for key in full.keys():\n",
      "    l = full[key][0]\n",
      "    cat_list.extend(ast.literal_eval(l))\n",
      "print len(list(set(cat_list)))"
     ],
     "language": "python",
     "metadata": {},
     "outputs": [
      {
       "output_type": "stream",
       "stream": "stdout",
       "text": [
        "3270\n"
       ]
      }
     ],
     "prompt_number": 8
    },
    {
     "cell_type": "code",
     "collapsed": false,
     "input": [
      "cats = list(set(a).union(set(b)).union(set(c)).union(set(e)).union(set(f)).union(set(n)).union(set(p)))"
     ],
     "language": "python",
     "metadata": {},
     "outputs": [],
     "prompt_number": 40
    },
    {
     "cell_type": "code",
     "collapsed": false,
     "input": [
      "import ast\n",
      "ast.literal_eval(null[null.keys()[0]][0])"
     ],
     "language": "python",
     "metadata": {},
     "outputs": [
      {
       "ename": "NameError",
       "evalue": "name 'null' is not defined",
       "output_type": "pyerr",
       "traceback": [
        "\u001b[0;31m---------------------------------------------------------------------------\u001b[0m\n\u001b[0;31mNameError\u001b[0m                                 Traceback (most recent call last)",
        "\u001b[0;32m<ipython-input-39-542b6b365b19>\u001b[0m in \u001b[0;36m<module>\u001b[0;34m()\u001b[0m\n\u001b[1;32m      1\u001b[0m \u001b[0;32mimport\u001b[0m \u001b[0mast\u001b[0m\u001b[0;34m\u001b[0m\u001b[0m\n\u001b[0;32m----> 2\u001b[0;31m \u001b[0mast\u001b[0m\u001b[0;34m.\u001b[0m\u001b[0mliteral_eval\u001b[0m\u001b[0;34m(\u001b[0m\u001b[0mnull\u001b[0m\u001b[0;34m[\u001b[0m\u001b[0mnull\u001b[0m\u001b[0;34m.\u001b[0m\u001b[0mkeys\u001b[0m\u001b[0;34m(\u001b[0m\u001b[0;34m)\u001b[0m\u001b[0;34m[\u001b[0m\u001b[0;36m0\u001b[0m\u001b[0;34m]\u001b[0m\u001b[0;34m]\u001b[0m\u001b[0;34m[\u001b[0m\u001b[0;36m0\u001b[0m\u001b[0;34m]\u001b[0m\u001b[0;34m)\u001b[0m\u001b[0;34m\u001b[0m\u001b[0m\n\u001b[0m",
        "\u001b[0;31mNameError\u001b[0m: name 'null' is not defined"
       ]
      }
     ],
     "prompt_number": 39
    },
    {
     "cell_type": "code",
     "collapsed": false,
     "input": [
      "import ast\n",
      "sub_dic = {}\n",
      "for key in full.keys():\n",
      "    l = ast.literal_eval(full[key][0])\n",
      "    label = list(set(l).intersection(cats))\n",
      "    sub_dic[key] = [str(label), full[key][1]] \n",
      "    "
     ],
     "language": "python",
     "metadata": {},
     "outputs": [],
     "prompt_number": 51
    },
    {
     "cell_type": "code",
     "collapsed": false,
     "input": [
      "print sub_dic.keys()[7000]\n",
      "sub_dic[sub_dic.keys()[7000]]"
     ],
     "language": "python",
     "metadata": {},
     "outputs": [
      {
       "output_type": "stream",
       "stream": "stdout",
       "text": [
        "Runbook\n"
       ]
      },
      {
       "metadata": {},
       "output_type": "pyout",
       "prompt_number": 52,
       "text": [
        "[\"[u'Control engineering', u'Technology', u'Automation']\",\n",
        " ['FF2010',\n",
        "  'Fabrictramp',\n",
        "  'MacStep',\n",
        "  'Lousyd',\n",
        "  \"Momma's Little Helper\",\n",
        "  'Rich Farmbrough',\n",
        "  'Alexhonor',\n",
        "  'B. Wolterding',\n",
        "  'Chandler321',\n",
        "  'Markbsigler',\n",
        "  'Elpincha',\n",
        "  'Meitar']]"
       ]
      }
     ],
     "prompt_number": 52
    },
    {
     "cell_type": "code",
     "collapsed": false,
     "input": [
      "editor_dic = {}\n",
      "\n",
      "for cat in cats:\n",
      "    editor_dic[cat] = []\n",
      "for key in sub_dic.keys():\n",
      "    for c in ast.literal_eval(sub_dic[key][0]):\n",
      "        editor_dic[c].extend(sub_dic[key][1])"
     ],
     "language": "python",
     "metadata": {},
     "outputs": [],
     "prompt_number": 53
    },
    {
     "cell_type": "code",
     "collapsed": false,
     "input": [
      "for key in editor_dic.keys():\n",
      "    \n",
      "    political_eds = len(set(editor_dic[key]).intersection(set(liberal_list).union(set(conservative_list))))\n",
      "    liberal_eds = len(set(editor_dic[key]).intersection(set(liberal_list)))\n",
      "    cons_eds = len(set(editor_dic[key]).intersection(set(conservative_list)))\n",
      "    discipline_eds = len(set(editor_dic[key]))\n",
      "    if discipline_eds > 0:\n",
      "        if float(liberal_eds)/discipline_eds > float(cons_eds)/discipline_eds:\n",
      "            print key\n",
      "            print \"Political: \" + str(float(political_eds)/discipline_eds)\n",
      "            print \"Liberal: \" + str(float(liberal_eds)/discipline_eds)\n",
      "            print \"Conservative: \" + str(float(cons_eds)/discipline_eds)\n",
      "            print \"----------------------------------------------\""
     ],
     "language": "python",
     "metadata": {},
     "outputs": [
      {
       "output_type": "stream",
       "stream": "stdout",
       "text": [
        "Metamaterials\n",
        "Political: 0.548780487805\n",
        "Liberal: 0.524390243902\n",
        "Conservative: 0.487804878049\n",
        "----------------------------------------------\n"
       ]
      }
     ],
     "prompt_number": 68
    },
    {
     "cell_type": "code",
     "collapsed": false,
     "input": [
      "len(editor_dic.keys())"
     ],
     "language": "python",
     "metadata": {},
     "outputs": [
      {
       "metadata": {},
       "output_type": "pyout",
       "prompt_number": 69,
       "text": [
        "149"
       ]
      }
     ],
     "prompt_number": 69
    },
    {
     "cell_type": "code",
     "collapsed": false,
     "input": [
      "G = nx.Graph()\n",
      "G.add_node(1)\n",
      "G.node[1]['room'] = 714, 1738\n",
      "G.nodes(data=True)"
     ],
     "language": "python",
     "metadata": {},
     "outputs": [
      {
       "metadata": {},
       "output_type": "pyout",
       "prompt_number": 69,
       "text": [
        "[(1, {'room': (714, 1738)})]"
       ]
      }
     ],
     "prompt_number": 69
    },
    {
     "cell_type": "code",
     "collapsed": false,
     "input": [
      "liberal_list = []\n",
      "conservative_list = []\n",
      "applied_list = []\n",
      "pure_list = []\n",
      "a_count = 0\n",
      "p_count = 0\n",
      "for key in poli.keys():\n",
      "    if poli[key][0] == 'liberal':\n",
      "        liberal_list.extend(poli[key][1])\n",
      "    elif poli[key][0] == 'conservative':\n",
      "        conservative_list.extend(poli[key][1])\n",
      "for key in full.keys():\n",
      "    if 'Engineering_disciplines' in full[key][0] or 'Applied_sciences' in full[key][0]:\n",
      "        applied_list.extend(full[key][1])\n",
      "        a_count = a_count + 1\n",
      "    else:\n",
      "        pure_list.extend(full[key][1])\n",
      "        p_count = p_count + 1\n",
      "\n",
      "print a_count\n",
      "print p_count\n",
      "print a_count + p_count"
     ],
     "language": "python",
     "metadata": {},
     "outputs": [
      {
       "output_type": "stream",
       "stream": "stdout",
       "text": [
        "29337\n",
        "29760\n",
        "59097\n"
       ]
      }
     ],
     "prompt_number": 61
    },
    {
     "cell_type": "code",
     "collapsed": false,
     "input": [
      "len((set(liberal_list).intersection(set(conservative_list))).intersection(set(applied_list).union(set(pure_list))))"
     ],
     "language": "python",
     "metadata": {},
     "outputs": [
      {
       "metadata": {},
       "output_type": "pyout",
       "prompt_number": 46,
       "text": [
        "13223"
       ]
      }
     ],
     "prompt_number": 46
    },
    {
     "cell_type": "code",
     "collapsed": false,
     "input": [
      "len(set(applied_list).union(set(pure_list)))"
     ],
     "language": "python",
     "metadata": {},
     "outputs": [
      {
       "metadata": {},
       "output_type": "pyout",
       "prompt_number": 45,
       "text": [
        "317671"
       ]
      }
     ],
     "prompt_number": 45
    },
    {
     "cell_type": "code",
     "collapsed": false,
     "input": [
      "float(13223)/317671"
     ],
     "language": "python",
     "metadata": {},
     "outputs": [
      {
       "metadata": {},
       "output_type": "pyout",
       "prompt_number": 47,
       "text": [
        "0.04162482568443453"
       ]
      }
     ],
     "prompt_number": 47
    },
    {
     "cell_type": "code",
     "collapsed": false,
     "input": [
      "len(set(science_list).intersection(set(liberal_list).union(set(conservative_list))))"
     ],
     "language": "python",
     "metadata": {},
     "outputs": [
      {
       "metadata": {},
       "output_type": "pyout",
       "prompt_number": 25,
       "text": [
        "26506"
       ]
      }
     ],
     "prompt_number": 25
    },
    {
     "cell_type": "code",
     "collapsed": false,
     "input": [
      "len(set(science_list))"
     ],
     "language": "python",
     "metadata": {},
     "outputs": [
      {
       "metadata": {},
       "output_type": "pyout",
       "prompt_number": 26,
       "text": [
        "197253"
       ]
      }
     ],
     "prompt_number": 26
    },
    {
     "cell_type": "code",
     "collapsed": false,
     "input": [
      "float(26506)/197253"
     ],
     "language": "python",
     "metadata": {},
     "outputs": [
      {
       "metadata": {},
       "output_type": "pyout",
       "prompt_number": 27,
       "text": [
        "0.13437564954652148"
       ]
      }
     ],
     "prompt_number": 27
    },
    {
     "cell_type": "code",
     "collapsed": false,
     "input": [
      "d2 = 0\n",
      "t2 = 0\n",
      "both = set(liberal_list).intersection(set((conservative_list)))\n",
      "for key in full.keys():\n",
      "    if full[key][0] in ['liberal', 'conservative']:\n",
      "        t2 = t2 + 1\n",
      "        local = 0\n",
      "        for editor in full[key][1]:\n",
      "            if editor in both:\n",
      "                local = local + 1\n",
      "        if local:\n",
      "            d2 = d2 + 1\n",
      "\n",
      "print d2\n",
      "print t2\n",
      "print float(d2)/t2"
     ],
     "language": "python",
     "metadata": {},
     "outputs": [
      {
       "output_type": "stream",
       "stream": "stdout",
       "text": [
        "21473\n",
        "21562\n",
        "0.995872368055\n"
       ]
      }
     ],
     "prompt_number": 31
    },
    {
     "cell_type": "code",
     "collapsed": false,
     "input": [
      "d3 = 0\n",
      "t3 = 0\n",
      "political = set(liberal_list).union(set(conservative_list))\n",
      "poli_sci = political.intersection(set(science_list))\n",
      "for key in full.keys():\n",
      "    if full[key][0] in ['science']:\n",
      "        t3 = t3 + 1\n",
      "        local = 0\n",
      "        for editor in full[key][1]:\n",
      "            if editor in poli_sci:\n",
      "                local = local + 1\n",
      "        if local:\n",
      "            d3 = d3 + 1\n",
      "                \n",
      "                \n",
      "\n",
      "print d3\n",
      "print t3\n",
      "print float(d3)/t3"
     ],
     "language": "python",
     "metadata": {},
     "outputs": [
      {
       "output_type": "stream",
       "stream": "stdout",
       "text": [
        "13375\n",
        "17779\n",
        "0.752292029923\n"
       ]
      }
     ],
     "prompt_number": 32
    },
    {
     "cell_type": "code",
     "collapsed": false,
     "input": [
      "len(full)"
     ],
     "language": "python",
     "metadata": {},
     "outputs": [
      {
       "metadata": {},
       "output_type": "pyout",
       "prompt_number": 33,
       "text": [
        "39341"
       ]
      }
     ],
     "prompt_number": 33
    },
    {
     "cell_type": "code",
     "collapsed": false,
     "input": [
      "s = random.sample(full.items(), 3934)\n",
      "small = {}\n",
      "for i in s:\n",
      "    small[i[0]] = i[1]"
     ],
     "language": "python",
     "metadata": {},
     "outputs": [],
     "prompt_number": 67
    },
    {
     "cell_type": "code",
     "collapsed": false,
     "input": [
      "out = open(\"../processed_data/cleaned_editors_small_wo_active.txt\", 'wb')\n",
      "wb = csv.writer(out)\n",
      "for key in small.keys():\n",
      "    wb.writerow([key, small[key][0]] + small[key][1])\n",
      "out.close()"
     ],
     "language": "python",
     "metadata": {},
     "outputs": [],
     "prompt_number": 68
    },
    {
     "cell_type": "code",
     "collapsed": false,
     "input": [
      "def load_sci(filename):\n",
      "    soups = {}\n",
      "    cats = []\n",
      "    fil = open(filename, 'rb')\n",
      "    reader = csv.reader(fil, delimiter=',')\n",
      "    for row in reader:\n",
      "        soups[row[0]] = row[1]\n",
      "        cats.append(row[1])\n",
      "    return soups, cats\n",
      "\n",
      "sci, cats = load_sci('../science_by_category.csv')"
     ],
     "language": "python",
     "metadata": {},
     "outputs": [],
     "prompt_number": 69
    },
    {
     "cell_type": "code",
     "collapsed": false,
     "input": [
      "sci['Okumura Model']"
     ],
     "language": "python",
     "metadata": {},
     "outputs": [
      {
       "metadata": {},
       "output_type": "pyout",
       "prompt_number": 76,
       "text": [
        "'radio propagation'"
       ]
      }
     ],
     "prompt_number": 76
    },
    {
     "cell_type": "code",
     "collapsed": false,
     "input": [
      "radio = [x for x in sci.keys() if sci[x] == 'optics']"
     ],
     "language": "python",
     "metadata": {},
     "outputs": [],
     "prompt_number": 80
    },
    {
     "cell_type": "code",
     "collapsed": false,
     "input": [
      "len(radio)"
     ],
     "language": "python",
     "metadata": {},
     "outputs": [
      {
       "metadata": {},
       "output_type": "pyout",
       "prompt_number": 81,
       "text": [
        "302"
       ]
      }
     ],
     "prompt_number": 81
    },
    {
     "cell_type": "code",
     "collapsed": false,
     "input": [
      "set(cats)"
     ],
     "language": "python",
     "metadata": {},
     "outputs": [
      {
       "metadata": {},
       "output_type": "pyout",
       "prompt_number": 75,
       "text": [
        "{'HIV/AIDS-related',\n",
        " 'List of plasma (physics)',\n",
        " 'List of plate tectonics topics',\n",
        " 'agriculture',\n",
        " 'anatomy',\n",
        " 'biochemistry',\n",
        " 'biodiversity',\n",
        " 'biology',\n",
        " 'biophysics',\n",
        " 'chemistry',\n",
        " 'cognitive science',\n",
        " 'earth science',\n",
        " 'energy',\n",
        " 'evolutionary biology',\n",
        " 'genetic engineering',\n",
        " 'genetics',\n",
        " 'geography',\n",
        " 'geology',\n",
        " 'health',\n",
        " 'immunology',\n",
        " 'meteorology',\n",
        " 'molecular biology',\n",
        " 'neuroscience',\n",
        " 'oncology',\n",
        " 'optics',\n",
        " 'pesticide',\n",
        " 'physics',\n",
        " 'psychology',\n",
        " 'radiation',\n",
        " 'radio propagation',\n",
        " 'sociology',\n",
        " 'solar energy',\n",
        " 'steam energy',\n",
        " 'topics related to life extension',\n",
        " 'trauma & orthopaedics',\n",
        " 'wave',\n",
        " 'women scientists'}"
       ]
      }
     ],
     "prompt_number": 75
    },
    {
     "cell_type": "code",
     "collapsed": false,
     "input": [],
     "language": "python",
     "metadata": {},
     "outputs": []
    }
   ],
   "metadata": {}
  }
 ]
}