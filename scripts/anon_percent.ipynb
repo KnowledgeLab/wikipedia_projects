{
 "metadata": {
  "name": "",
  "signature": "sha256:eb8c18a1145644f6fa28faee3ba718b9ad88a7861f39971215b2ef5996a06438"
 },
 "nbformat": 3,
 "nbformat_minor": 0,
 "worksheets": [
  {
   "cells": [
    {
     "cell_type": "code",
     "collapsed": false,
     "input": [
      "import urllib\n",
      "import xlrd\n",
      "import csv\n",
      "import xml.etree.ElementTree as ET\n",
      "from   unidecode import *\n",
      "import xlwt\n",
      "import sys"
     ],
     "language": "python",
     "metadata": {},
     "outputs": [],
     "prompt_number": 2
    },
    {
     "cell_type": "code",
     "collapsed": false,
     "input": [
      "filename = 'liberal_ips.txt'\n",
      "ips = 0\n",
      "total = 0\n",
      "fil = open(filename, 'rb')\n",
      "reader = csv.reader(fil, delimiter=',')\n",
      "for row in reader:\n",
      "    ips = ips + int(row[0])\n",
      "    total = total + int(row[1])\n",
      "print ips\n",
      "print total\n",
      "print float(ips)/total"
     ],
     "language": "python",
     "metadata": {},
     "outputs": [
      {
       "output_type": "stream",
       "stream": "stdout",
       "text": [
        "445572\n",
        "1546176\n",
        "0.288176766422\n"
       ]
      }
     ],
     "prompt_number": 4
    },
    {
     "cell_type": "code",
     "collapsed": false,
     "input": [
      "filename2 = 'science_ips.txt'\n",
      "ips2 = 0\n",
      "total2 = 0\n",
      "fil2 = open(filename2, 'rb')\n",
      "reader = csv.reader(fil2, delimiter=',')\n",
      "for row in reader:\n",
      "    ips2 = ips2 + int(row[0])\n",
      "    total2 = total2 + int(row[1])\n",
      "print ips2\n",
      "print total2\n",
      "print float(ips2)/total2\n",
      "print float(ips+ips2)/(total+total2)"
     ],
     "language": "python",
     "metadata": {},
     "outputs": [
      {
       "output_type": "stream",
       "stream": "stdout",
       "text": [
        "2493232\n",
        "6856137\n",
        "0.363649676195\n",
        "0.349761309773\n"
       ]
      }
     ],
     "prompt_number": 7
    },
    {
     "cell_type": "code",
     "collapsed": false,
     "input": [],
     "language": "python",
     "metadata": {},
     "outputs": [],
     "prompt_number": 5
    },
    {
     "cell_type": "code",
     "collapsed": false,
     "input": [],
     "language": "python",
     "metadata": {},
     "outputs": []
    }
   ],
   "metadata": {}
  }
 ]
}