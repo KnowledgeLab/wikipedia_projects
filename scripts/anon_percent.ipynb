{
 "metadata": {
  "name": "",
  "signature": "sha256:6f380d2ecddbdbadf55108c99b8681a1f08b0a2a8f69a04ce31c31e6235cffbe"
 },
 "nbformat": 3,
 "nbformat_minor": 0,
 "worksheets": [
  {
   "cells": [
    {
     "cell_type": "code",
     "collapsed": false,
     "input": [
      "import urllib\n",
      "import xlrd\n",
      "import csv\n",
      "import xml.etree.ElementTree as ET\n",
      "from   unidecode import *\n",
      "import xlwt\n",
      "import sys"
     ],
     "language": "python",
     "metadata": {},
     "outputs": [],
     "prompt_number": 1
    },
    {
     "cell_type": "code",
     "collapsed": false,
     "input": [
      "filename = '../processed_data/liberal_ips.txt'\n",
      "ips = 0\n",
      "total = 0\n",
      "fil = open(filename, 'rb')\n",
      "reader = csv.reader(fil, delimiter=',')\n",
      "for row in reader:\n",
      "    ips = ips + int(row[0])\n",
      "    total = total + int(row[1])\n",
      "print ips\n",
      "print total\n",
      "print float(ips)/total"
     ],
     "language": "python",
     "metadata": {},
     "outputs": [
      {
       "output_type": "stream",
       "stream": "stdout",
       "text": [
        "449529\n",
        "1546176\n",
        "0.290735983484\n"
       ]
      }
     ],
     "prompt_number": 2
    },
    {
     "cell_type": "code",
     "collapsed": false,
     "input": [
      "filename2 = '../processed_data/science_ips.txt'\n",
      "ips2 = 0\n",
      "total2 = 0\n",
      "fil2 = open(filename2, 'rb')\n",
      "reader = csv.reader(fil2, delimiter=',')\n",
      "for row in reader:\n",
      "    ips2 = ips2 + int(row[0])\n",
      "    total2 = total2 + int(row[1])\n",
      "print ips2\n",
      "print total2\n",
      "print float(ips2)/total2\n",
      "print float(ips+ips2)/(total+total2)"
     ],
     "language": "python",
     "metadata": {},
     "outputs": [
      {
       "output_type": "stream",
       "stream": "stdout",
       "text": [
        "2502651\n",
        "6856137\n",
        "0.365023481882"
       ]
      },
      {
       "output_type": "stream",
       "stream": "stdout",
       "text": [
        "\n",
        "0.351353252372\n"
       ]
      }
     ],
     "prompt_number": 3
    },
    {
     "cell_type": "code",
     "collapsed": false,
     "input": [
      "filename3 = '../processed_data/conservative_ips.txt'\n",
      "ips3 = 0\n",
      "total3 = 0\n",
      "fil3 = open(filename3, 'rb')\n",
      "reader = csv.reader(fil3, delimiter=',')\n",
      "for row in reader:\n",
      "    ips3 = ips3 + int(row[0])\n",
      "    total3 = total3 + int(row[1])\n",
      "print ips3\n",
      "print total3\n",
      "print float(ips3)/total3\n",
      "print float(ips+ips2+ips3)/(total+total2+total3)"
     ],
     "language": "python",
     "metadata": {},
     "outputs": [
      {
       "output_type": "stream",
       "stream": "stdout",
       "text": [
        "439921\n",
        "1513671\n",
        "0.290631848004\n",
        "0.34208415423\n"
       ]
      }
     ],
     "prompt_number": 5
    },
    {
     "cell_type": "code",
     "collapsed": false,
     "input": [
      "filename4 = '../processed_data/controversial_ips.txt'\n",
      "ips4 = 0\n",
      "total4 = 0\n",
      "fil4 = open(filename4, 'rb')\n",
      "reader = csv.reader(fil4, delimiter=',')\n",
      "for row in reader:\n",
      "    ips4 = ips4 + int(row[0])\n",
      "    total4 = total4 + int(row[1])\n",
      "print ips4\n",
      "print total4\n",
      "print float(ips4)/total4\n",
      "print float(ips+ips2+ips3+ips4)/(total+total2+total3+total4)"
     ],
     "language": "python",
     "metadata": {},
     "outputs": [
      {
       "output_type": "stream",
       "stream": "stdout",
       "text": [
        "159427\n",
        "515854\n",
        "0.309054499917\n",
        "0.340450839056\n"
       ]
      }
     ],
     "prompt_number": 6
    },
    {
     "cell_type": "code",
     "collapsed": false,
     "input": [
      "filename5 = '../processed_data/social-issues_ips.txt'\n",
      "ips5 = 0\n",
      "total5 = 0\n",
      "fil5 = open(filename5, 'rb')\n",
      "reader = csv.reader(fil5, delimiter=',')\n",
      "for row in reader:\n",
      "    ips5 = ips5 + int(row[0])\n",
      "    total5 = total5 + int(row[1])\n",
      "print ips5\n",
      "print total5\n",
      "print float(ips5)/total5\n",
      "print float(ips+ips2+ips3+ips4+ips5)/(total+total2+total3+total4+total5)"
     ],
     "language": "python",
     "metadata": {},
     "outputs": [
      {
       "output_type": "stream",
       "stream": "stdout",
       "text": [
        "242401\n",
        "705157\n",
        "0.343754653219\n",
        "0.340660025438\n"
       ]
      }
     ],
     "prompt_number": 7
    },
    {
     "cell_type": "code",
     "collapsed": false,
     "input": [],
     "language": "python",
     "metadata": {},
     "outputs": []
    }
   ],
   "metadata": {}
  }
 ]
}